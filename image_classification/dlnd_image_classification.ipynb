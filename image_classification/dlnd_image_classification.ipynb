{
 "cells": [
  {
   "cell_type": "markdown",
   "metadata": {
    "collapsed": true,
    "deletable": true,
    "editable": true
   },
   "source": [
    "# Image Classification\n",
    "In this project, you'll classify images from the [CIFAR-10 dataset](https://www.cs.toronto.edu/~kriz/cifar.html).  The dataset consists of airplanes, dogs, cats, and other objects. You'll preprocess the images, then train a convolutional neural network on all the samples. The images need to be normalized and the labels need to be one-hot encoded.  You'll get to apply what you learned and build a convolutional, max pooling, dropout, and fully connected layers.  At the end, you'll get to see your neural network's predictions on the sample images.\n",
    "## Get the Data\n",
    "Run the following cell to download the [CIFAR-10 dataset for python](https://www.cs.toronto.edu/~kriz/cifar-10-python.tar.gz)."
   ]
  },
  {
   "cell_type": "code",
   "execution_count": 1,
   "metadata": {
    "collapsed": false,
    "deletable": true,
    "editable": true
   },
   "outputs": [
    {
     "name": "stdout",
     "output_type": "stream",
     "text": [
      "All files found!\n"
     ]
    }
   ],
   "source": [
    "\"\"\"\n",
    "DON'T MODIFY ANYTHING IN THIS CELL THAT IS BELOW THIS LINE\n",
    "\"\"\"\n",
    "from urllib.request import urlretrieve\n",
    "from os.path import isfile, isdir\n",
    "from tqdm import tqdm\n",
    "import problem_unittests as tests\n",
    "import tarfile\n",
    "\n",
    "cifar10_dataset_folder_path = 'cifar-10-batches-py'\n",
    "\n",
    "class DLProgress(tqdm):\n",
    "    last_block = 0\n",
    "\n",
    "    def hook(self, block_num=1, block_size=1, total_size=None):\n",
    "        self.total = total_size\n",
    "        self.update((block_num - self.last_block) * block_size)\n",
    "        self.last_block = block_num\n",
    "\n",
    "if not isfile('cifar-10-python.tar.gz'):\n",
    "    with DLProgress(unit='B', unit_scale=True, miniters=1, desc='CIFAR-10 Dataset') as pbar:\n",
    "        urlretrieve(\n",
    "            'https://www.cs.toronto.edu/~kriz/cifar-10-python.tar.gz',\n",
    "            'cifar-10-python.tar.gz',\n",
    "            pbar.hook)\n",
    "\n",
    "if not isdir(cifar10_dataset_folder_path):\n",
    "    with tarfile.open('cifar-10-python.tar.gz') as tar:\n",
    "        tar.extractall()\n",
    "        tar.close()\n",
    "\n",
    "\n",
    "tests.test_folder_path(cifar10_dataset_folder_path)"
   ]
  },
  {
   "cell_type": "markdown",
   "metadata": {
    "deletable": true,
    "editable": true
   },
   "source": [
    "## Explore the Data\n",
    "The dataset is broken into batches to prevent your machine from running out of memory.  The CIFAR-10 dataset consists of 5 batches, named `data_batch_1`, `data_batch_2`, etc.. Each batch contains the labels and images that are one of the following:\n",
    "* airplane\n",
    "* automobile\n",
    "* bird\n",
    "* cat\n",
    "* deer\n",
    "* dog\n",
    "* frog\n",
    "* horse\n",
    "* ship\n",
    "* truck\n",
    "\n",
    "Understanding a dataset is part of making predictions on the data.  Play around with the code cell below by changing the `batch_id` and `sample_id`. The `batch_id` is the id for a batch (1-5). The `sample_id` is the id for a image and label pair in the batch.\n",
    "\n",
    "Ask yourself \"What are all possible labels?\", \"What is the range of values for the image data?\", \"Are the labels in order or random?\".  Answers to questions like these will help you preprocess the data and end up with better predictions."
   ]
  },
  {
   "cell_type": "code",
   "execution_count": 2,
   "metadata": {
    "collapsed": false,
    "deletable": true,
    "editable": true
   },
   "outputs": [
    {
     "name": "stdout",
     "output_type": "stream",
     "text": [
      "\n",
      "Stats of batch 4:\n",
      "Samples: 10000\n",
      "Label Counts: {0: 1003, 1: 963, 2: 1041, 3: 976, 4: 1004, 5: 1021, 6: 1004, 7: 981, 8: 1024, 9: 983}\n",
      "First 20 Labels: [0, 6, 0, 2, 7, 2, 1, 2, 4, 1, 5, 6, 6, 3, 1, 3, 5, 5, 8, 1]\n",
      "\n",
      "Example of Image 9999:\n",
      "Image - Min Value: 0 Max Value: 255\n",
      "Image - Shape: (32, 32, 3)\n",
      "Label - Label Id: 8 Name: ship\n"
     ]
    },
    {
     "data": {
      "image/png": "[encoded data removed]",
      "text/plain": [
       "<matplotlib.figure.Figure at 0x7f5c061ee7b8>"
      ]
     },
     "metadata": {
      "image/png": {
       "height": 250,
       "width": 253
      }
     },
     "output_type": "display_data"
    }
   ],
   "source": [
    "%matplotlib inline\n",
    "%config InlineBackend.figure_format = 'retina'\n",
    "\n",
    "import helper\n",
    "import numpy as np\n",
    "\n",
    "# Explore the dataset\n",
    "batch_id = 4\n",
    "sample_id = 9999\n",
    "helper.display_stats(cifar10_dataset_folder_path, batch_id, sample_id)"
   ]
  },
  {
   "cell_type": "markdown",
   "metadata": {
    "deletable": true,
    "editable": true
   },
   "source": [
    "## Implement Preprocess Functions\n",
    "### Normalize\n",
    "In the cell below, implement the `normalize` function to take in image data, `x`, and return it as a normalized Numpy array. The values should be in the range of 0 to 1, inclusive.  The return object should be the same shape as `x`."
   ]
  },
  {
   "cell_type": "code",
   "execution_count": 3,
   "metadata": {
    "collapsed": false,
    "deletable": true,
    "editable": true
   },
   "outputs": [
    {
     "name": "stdout",
     "output_type": "stream",
     "text": [
      "Tests Passed\n"
     ]
    }
   ],
   "source": [
    "import numpy as np\n",
    "\n",
    "def normalize(x):\n",
    "    \"\"\"\n",
    "    Normalize a list of sample image data in the range of 0 to 1\n",
    "    : x: List of image data.  The image shape is (32, 32, 3)\n",
    "    : return: Numpy array of normalize data\n",
    "    \"\"\"\n",
    "    # Implemented specifically for RGB image normalization, pixel values in [0, 255]\n",
    "    np_x = np.array(x)\n",
    "    return (np_x) / 255\n",
    "\n",
    "\n",
    "\"\"\"\n",
    "DON'T MODIFY ANYTHING IN THIS CELL THAT IS BELOW THIS LINE\n",
    "\"\"\"\n",
    "tests.test_normalize(normalize)"
   ]
  },
  {
   "cell_type": "markdown",
   "metadata": {
    "deletable": true,
    "editable": true
   },
   "source": [
    "### One-hot encode\n",
    "Just like the previous code cell, you'll be implementing a function for preprocessing.  This time, you'll implement the `one_hot_encode` function. The input, `x`, are a list of labels.  Implement the function to return the list of labels as One-Hot encoded Numpy array.  The possible values for labels are 0 to 9. The one-hot encoding function should return the same encoding for each value between each call to `one_hot_encode`.  Make sure to save the map of encodings outside the function.\n",
    "\n",
    "Hint: Don't reinvent the wheel."
   ]
  },
  {
   "cell_type": "code",
   "execution_count": 4,
   "metadata": {
    "collapsed": false,
    "deletable": true,
    "editable": true
   },
   "outputs": [
    {
     "name": "stdout",
     "output_type": "stream",
     "text": [
      "Tests Passed\n"
     ]
    }
   ],
   "source": [
    "def one_hot_encode(x):\n",
    "    \"\"\"\n",
    "    One hot encode a list of sample labels. Return a one-hot encoded vector for each label.\n",
    "    : x: List of sample Labels\n",
    "    : return: Numpy array of one-hot encoded labels\n",
    "    \"\"\"\n",
    "    # Hard coded number of labels, again not a great solution but \n",
    "    # it is not clear whether it is possible to infer number of labels\n",
    "    # from input x\n",
    "    one_hot = np.zeros((len(x), 10))\n",
    "    for i, label in enumerate(x):\n",
    "        one_hot[i][label] = 1\n",
    "    return one_hot\n",
    "\n",
    "\n",
    "\"\"\"\n",
    "DON'T MODIFY ANYTHING IN THIS CELL THAT IS BELOW THIS LINE\n",
    "\"\"\"\n",
    "tests.test_one_hot_encode(one_hot_encode)"
   ]
  },
  {
   "cell_type": "markdown",
   "metadata": {
    "deletable": true,
    "editable": true
   },
   "source": [
    "### Randomize Data\n",
    "As you saw from exploring the data above, the order of the samples are randomized.  It doesn't hurt to randomize it again, but you don't need to for this dataset."
   ]
  },
  {
   "cell_type": "markdown",
   "metadata": {
    "deletable": true,
    "editable": true
   },
   "source": [
    "## Preprocess all the data and save it\n",
    "Running the code cell below will preprocess all the CIFAR-10 data and save it to file. The code below also uses 10% of the training data for validation."
   ]
  },
  {
   "cell_type": "code",
   "execution_count": 5,
   "metadata": {
    "collapsed": false,
    "deletable": true,
    "editable": true
   },
   "outputs": [],
   "source": [
    "\"\"\"\n",
    "DON'T MODIFY ANYTHING IN THIS CELL\n",
    "\"\"\"\n",
    "# Preprocess Training, Validation, and Testing Data\n",
    "helper.preprocess_and_save_data(cifar10_dataset_folder_path, normalize, one_hot_encode)"
   ]
  },
  {
   "cell_type": "markdown",
   "metadata": {
    "deletable": true,
    "editable": true
   },
   "source": [
    "# Check Point\n",
    "This is your first checkpoint.  If you ever decide to come back to this notebook or have to restart the notebook, you can start from here.  The preprocessed data has been saved to disk."
   ]
  },
  {
   "cell_type": "code",
   "execution_count": 6,
   "metadata": {
    "collapsed": true,
    "deletable": true,
    "editable": true
   },
   "outputs": [],
   "source": [
    "\"\"\"\n",
    "DON'T MODIFY ANYTHING IN THIS CELL\n",
    "\"\"\"\n",
    "import pickle\n",
    "import problem_unittests as tests\n",
    "import helper\n",
    "\n",
    "# Load the Preprocessed Validation data\n",
    "valid_features, valid_labels = pickle.load(open('preprocess_validation.p', mode='rb'))"
   ]
  },
  {
   "cell_type": "markdown",
   "metadata": {
    "deletable": true,
    "editable": true
   },
   "source": [
    "## Build the network\n",
    "For the neural network, you'll build each layer into a function.  Most of the code you've seen has been outside of functions. To test your code more thoroughly, we require that you put each layer in a function.  This allows us to give you better feedback and test for simple mistakes using our unittests before you submit your project.\n",
    "\n",
    ">**Note:** If you're finding it hard to dedicate enough time for this course each week, we've provided a small shortcut to this part of the project. In the next couple of problems, you'll have the option to use classes from the [TensorFlow Layers](https://www.tensorflow.org/api_docs/python/tf/layers) or [TensorFlow Layers (contrib)](https://www.tensorflow.org/api_guides/python/contrib.layers) packages to build each layer, except the layers you build in the \"Convolutional and Max Pooling Layer\" section.  TF Layers is similar to Keras's and TFLearn's abstraction to layers, so it's easy to pickup.\n",
    "\n",
    ">However, if you would like to get the most out of this course, try to solve all the problems _without_ using anything from the TF Layers packages. You **can** still use classes from other packages that happen to have the same name as ones you find in TF Layers! For example, instead of using the TF Layers version of the `conv2d` class, [tf.layers.conv2d](https://www.tensorflow.org/api_docs/python/tf/layers/conv2d), you would want to use the TF Neural Network version of `conv2d`, [tf.nn.conv2d](https://www.tensorflow.org/api_docs/python/tf/nn/conv2d). \n",
    "\n",
    "Let's begin!\n",
    "\n",
    "### Input\n",
    "The neural network needs to read the image data, one-hot encoded labels, and dropout keep probability. Implement the following functions\n",
    "* Implement `neural_net_image_input`\n",
    " * Return a [TF Placeholder](https://www.tensorflow.org/api_docs/python/tf/placeholder)\n",
    " * Set the shape using `image_shape` with batch size set to `None`.\n",
    " * Name the TensorFlow placeholder \"x\" using the TensorFlow `name` parameter in the [TF Placeholder](https://www.tensorflow.org/api_docs/python/tf/placeholder).\n",
    "* Implement `neural_net_label_input`\n",
    " * Return a [TF Placeholder](https://www.tensorflow.org/api_docs/python/tf/placeholder)\n",
    " * Set the shape using `n_classes` with batch size set to `None`.\n",
    " * Name the TensorFlow placeholder \"y\" using the TensorFlow `name` parameter in the [TF Placeholder](https://www.tensorflow.org/api_docs/python/tf/placeholder).\n",
    "* Implement `neural_net_keep_prob_input`\n",
    " * Return a [TF Placeholder](https://www.tensorflow.org/api_docs/python/tf/placeholder) for dropout keep probability.\n",
    " * Name the TensorFlow placeholder \"keep_prob\" using the TensorFlow `name` parameter in the [TF Placeholder](https://www.tensorflow.org/api_docs/python/tf/placeholder).\n",
    "\n",
    "These names will be used at the end of the project to load your saved model.\n",
    "\n",
    "Note: `None` for shapes in TensorFlow allow for a dynamic size."
   ]
  },
  {
   "cell_type": "code",
   "execution_count": 7,
   "metadata": {
    "collapsed": false,
    "deletable": true,
    "editable": true
   },
   "outputs": [
    {
     "name": "stdout",
     "output_type": "stream",
     "text": [
      "Image Input Tests Passed.\n",
      "Label Input Tests Passed.\n",
      "Keep Prob Tests Passed.\n"
     ]
    }
   ],
   "source": [
    "import tensorflow as tf\n",
    "\n",
    "def neural_net_image_input(image_shape):\n",
    "    \"\"\"\n",
    "    Return a Tensor for a bach of image input\n",
    "    : image_shape: Shape of the images\n",
    "    : return: Tensor for image input.\n",
    "    \"\"\"\n",
    "    return tf.placeholder(tf.float32, shape=[None, 32, 32, 3], name=\"x\")\n",
    "\n",
    "\n",
    "def neural_net_label_input(n_classes):\n",
    "    \"\"\"\n",
    "    Return a Tensor for a batch of label input\n",
    "    : n_classes: Number of classes\n",
    "    : return: Tensor for label input.\n",
    "    \"\"\"\n",
    "    # TODO: Implement Function\n",
    "    return tf.placeholder(tf.int32, (None, 10), name=\"y\")\n",
    "\n",
    "\n",
    "def neural_net_keep_prob_input():\n",
    "    \"\"\"\n",
    "    Return a Tensor for keep probability\n",
    "    : return: Tensor for keep probability.\n",
    "    \"\"\"\n",
    "    # TODO: Implement Function\n",
    "    return tf.placeholder(tf.float32, name=\"keep_prob\")\n",
    "\n",
    "\n",
    "\"\"\"\n",
    "DON'T MODIFY ANYTHING IN THIS CELL THAT IS BELOW THIS LINE\n",
    "\"\"\"\n",
    "tf.reset_default_graph()\n",
    "tests.test_nn_image_inputs(neural_net_image_input)\n",
    "tests.test_nn_label_inputs(neural_net_label_input)\n",
    "tests.test_nn_keep_prob_inputs(neural_net_keep_prob_input)"
   ]
  },
  {
   "cell_type": "markdown",
   "metadata": {
    "deletable": true,
    "editable": true
   },
   "source": [
    "### Convolution and Max Pooling Layer\n",
    "Convolution layers have a lot of success with images. For this code cell, you should implement the function `conv2d_maxpool` to apply convolution then max pooling:\n",
    "* Create the weight and bias using `conv_ksize`, `conv_num_outputs` and the shape of `x_tensor`.\n",
    "* Apply a convolution to `x_tensor` using weight and `conv_strides`.\n",
    " * We recommend you use same padding, but you're welcome to use any padding.\n",
    "* Add bias\n",
    "* Add a nonlinear activation to the convolution.\n",
    "* Apply Max Pooling using `pool_ksize` and `pool_strides`.\n",
    " * We recommend you use same padding, but you're welcome to use any padding.\n",
    "\n",
    "**Note:** You **can't** use [TensorFlow Layers](https://www.tensorflow.org/api_docs/python/tf/layers) or [TensorFlow Layers (contrib)](https://www.tensorflow.org/api_guides/python/contrib.layers) for **this** layer, but you can still use TensorFlow's [Neural Network](https://www.tensorflow.org/api_docs/python/tf/nn) package. You may still use the shortcut option for all the **other** layers."
   ]
  },
  {
   "cell_type": "code",
   "execution_count": 8,
   "metadata": {
    "collapsed": false,
    "deletable": true,
    "editable": true
   },
   "outputs": [
    {
     "name": "stdout",
     "output_type": "stream",
     "text": [
      "Tests Passed\n"
     ]
    }
   ],
   "source": [
    "def conv2d_maxpool(x_tensor, conv_num_outputs, conv_ksize, conv_strides, pool_ksize, pool_strides):\n",
    "    \"\"\"\n",
    "    Apply convolution then max pooling to x_tensor\n",
    "    :param x_tensor: TensorFlow Tensor\n",
    "    :param conv_num_outputs: Number of outputs for the convolutional layer\n",
    "    :param conv_ksize: kernal size 2-D Tuple for the convolutional layer\n",
    "    :param conv_strides: Stride 2-D Tuple for convolution\n",
    "    :param pool_ksize: kernal size 2-D Tuple for pool\n",
    "    :param pool_strides: Stride 2-D Tuple for pool\n",
    "    : return: A tensor that represents convolution and max pooling of x_tensor\n",
    "    \"\"\"\n",
    "    # Shape is: Convolution dim1 size, Convolution dim2 size, \n",
    "    # number of channgels (last dimmension of tensor), number of desired outputs\n",
    "    w_shape = (conv_ksize[0], conv_ksize[1], x_tensor.get_shape().as_list()[-1], conv_num_outputs)\n",
    "    weight = tf.Variable(tf.truncated_normal(w_shape, stddev=0.1))\n",
    "    bias = tf.Variable(tf.zeros(conv_num_outputs))\n",
    "    \n",
    "    # A list of ints. 1-D of length 4. The stride of the sliding window for each dimension of input. \n",
    "    # Must be in the same order as the dimension specified with format.\n",
    "    conv2d_shape = (1, conv_strides[0], conv_strides[1], 1)\n",
    "    conv_layer = tf.nn.conv2d(x_tensor, weight, strides=conv2d_shape, padding='SAME')\n",
    "    conv_layer = tf.nn.bias_add(conv_layer, bias)\n",
    "    conv_layer = tf.nn.relu(conv_layer)\n",
    "    \n",
    "    #ksize: A list of ints that has length >= 4. \n",
    "    # The size of the window for each dimension of the input tensor.\n",
    "    # strides: A list of ints that has length >= 4. \n",
    "    # The stride of the sliding window for each dimension of the input tensor.\n",
    "    max_pool_k_shape = (1, pool_ksize[0], pool_ksize[1], 1)\n",
    "    max_pool_stride_shape = (1, pool_strides[0], pool_strides[1], 1)\n",
    "    conv_layer = tf.nn.max_pool(conv_layer, ksize=max_pool_k_shape, strides=max_pool_stride_shape, padding='SAME')\n",
    "    \n",
    "    return conv_layer \n",
    "\n",
    "\n",
    "\"\"\"\n",
    "DON'T MODIFY ANYTHING IN THIS CELL THAT IS BELOW THIS LINE\n",
    "\"\"\"\n",
    "tests.test_con_pool(conv2d_maxpool)"
   ]
  },
  {
   "cell_type": "markdown",
   "metadata": {
    "deletable": true,
    "editable": true
   },
   "source": [
    "### Flatten Layer\n",
    "Implement the `flatten` function to change the dimension of `x_tensor` from a 4-D tensor to a 2-D tensor.  The output should be the shape (*Batch Size*, *Flattened Image Size*). Shortcut option: you can use classes from the [TensorFlow Layers](https://www.tensorflow.org/api_docs/python/tf/layers) or [TensorFlow Layers (contrib)](https://www.tensorflow.org/api_guides/python/contrib.layers) packages for this layer. For more of a challenge, only use other TensorFlow packages."
   ]
  },
  {
   "cell_type": "code",
   "execution_count": 10,
   "metadata": {
    "collapsed": false,
    "deletable": true,
    "editable": true
   },
   "outputs": [
    {
     "name": "stdout",
     "output_type": "stream",
     "text": [
      "Tests Passed\n"
     ]
    }
   ],
   "source": [
    "def flatten(x_tensor):\n",
    "    \"\"\"\n",
    "    Flatten x_tensor to (Batch Size, Flattened Image Size)\n",
    "    : x_tensor: A tensor of size (Batch Size, ...), where ... are the image dimensions.\n",
    "    : return: A tensor of size (Batch Size, Flattened Image Size).\n",
    "    \"\"\"\n",
    "    return tf.contrib.layers.flatten(x_tensor)\n",
    "\n",
    "\n",
    "\"\"\"\n",
    "DON'T MODIFY ANYTHING IN THIS CELL THAT IS BELOW THIS LINE\n",
    "\"\"\"\n",
    "tests.test_flatten(flatten)"
   ]
  },
  {
   "cell_type": "markdown",
   "metadata": {
    "deletable": true,
    "editable": true
   },
   "source": [
    "### Fully-Connected Layer\n",
    "Implement the `fully_conn` function to apply a fully connected layer to `x_tensor` with the shape (*Batch Size*, *num_outputs*). Shortcut option: you can use classes from the [TensorFlow Layers](https://www.tensorflow.org/api_docs/python/tf/layers) or [TensorFlow Layers (contrib)](https://www.tensorflow.org/api_guides/python/contrib.layers) packages for this layer. For more of a challenge, only use other TensorFlow packages."
   ]
  },
  {
   "cell_type": "code",
   "execution_count": 12,
   "metadata": {
    "collapsed": false,
    "deletable": true,
    "editable": true
   },
   "outputs": [
    {
     "name": "stdout",
     "output_type": "stream",
     "text": [
      "Tests Passed\n"
     ]
    }
   ],
   "source": [
    "def fully_conn(x_tensor, num_outputs):\n",
    "    \"\"\"\n",
    "    Apply a fully connected layer to x_tensor using weight and bias\n",
    "    : x_tensor: A 2-D tensor where the first dimension is batch size.\n",
    "    : num_outputs: The number of output that the new tensor should be.\n",
    "    : return: A 2-D tensor where the second dimension is num_outputs.\n",
    "    \"\"\"\n",
    "    fully_weight = tf.Variable(tf.random_normal([x_tensor.get_shape().as_list()[1], num_outputs], stddev=0.1))\n",
    "    fully_bias = tf.Variable(tf.zeros([num_outputs]))\n",
    "    # Hardcoded ReLU activation\n",
    "    x_tensor = tf.add(tf.matmul(x_tensor, fully_weight), fully_bias)\n",
    "    x_tensor = tf.nn.relu(x_tensor)\n",
    "    return x_tensor\n",
    "\n",
    "\n",
    "\"\"\"\n",
    "DON'T MODIFY ANYTHING IN THIS CELL THAT IS BELOW THIS LINE\n",
    "\"\"\"\n",
    "tests.test_fully_conn(fully_conn)"
   ]
  },
  {
   "cell_type": "markdown",
   "metadata": {
    "deletable": true,
    "editable": true
   },
   "source": [
    "### Output Layer\n",
    "Implement the `output` function to apply a fully connected layer to `x_tensor` with the shape (*Batch Size*, *num_outputs*). Shortcut option: you can use classes from the [TensorFlow Layers](https://www.tensorflow.org/api_docs/python/tf/layers) or [TensorFlow Layers (contrib)](https://www.tensorflow.org/api_guides/python/contrib.layers) packages for this layer. For more of a challenge, only use other TensorFlow packages.\n",
    "\n",
    "**Note:** Activation, softmax, or cross entropy should **not** be applied to this."
   ]
  },
  {
   "cell_type": "code",
   "execution_count": 13,
   "metadata": {
    "collapsed": false,
    "deletable": true,
    "editable": true
   },
   "outputs": [
    {
     "name": "stdout",
     "output_type": "stream",
     "text": [
      "Tests Passed\n"
     ]
    }
   ],
   "source": [
    "def output(x_tensor, num_outputs):\n",
    "    \"\"\"\n",
    "    Apply a output layer to x_tensor using weight and bias\n",
    "    : x_tensor: A 2-D tensor where the first dimension is batch size.\n",
    "    : num_outputs: The number of output that the new tensor should be.\n",
    "    : return: A 2-D tensor where the second dimension is num_outputs.\n",
    "    \"\"\"\n",
    "    out_weight = tf.Variable(tf.random_normal([x_tensor.get_shape().as_list()[1], num_outputs], stddev=0.1))\n",
    "    out_bias = tf.Variable(tf.zeros([num_outputs]))\n",
    "    x_tensor = tf.add(tf.matmul(x_tensor, out_weight), out_bias)\n",
    "    return x_tensor\n",
    "\n",
    "\n",
    "\"\"\"\n",
    "DON'T MODIFY ANYTHING IN THIS CELL THAT IS BELOW THIS LINE\n",
    "\"\"\"\n",
    "tests.test_output(output)"
   ]
  },
  {
   "cell_type": "markdown",
   "metadata": {
    "deletable": true,
    "editable": true
   },
   "source": [
    "### Create Convolutional Model\n",
    "Implement the function `conv_net` to create a convolutional neural network model. The function takes in a batch of images, `x`, and outputs logits.  Use the layers you created above to create this model:\n",
    "\n",
    "* Apply 1, 2, or 3 Convolution and Max Pool layers\n",
    "* Apply a Flatten Layer\n",
    "* Apply 1, 2, or 3 Fully Connected Layers\n",
    "* Apply an Output Layer\n",
    "* Return the output\n",
    "* Apply [TensorFlow's Dropout](https://www.tensorflow.org/api_docs/python/tf/nn/dropout) to one or more layers in the model using `keep_prob`. "
   ]
  },
  {
   "cell_type": "markdown",
   "metadata": {
    "deletable": true,
    "editable": true
   },
   "source": [
    "## Train the Neural Network\n",
    "### Single Optimization\n",
    "Implement the function `train_neural_network` to do a single optimization.  The optimization should use `optimizer` to optimize in `session` with a `feed_dict` of the following:\n",
    "* `x` for image input\n",
    "* `y` for labels\n",
    "* `keep_prob` for keep probability for dropout\n",
    "\n",
    "This function will be called for each batch, so `tf.global_variables_initializer()` has already been called.\n",
    "\n",
    "Note: Nothing needs to be returned. This function is only optimizing the neural network."
   ]
  },
  {
   "cell_type": "code",
   "execution_count": 29,
   "metadata": {
    "collapsed": false,
    "deletable": true,
    "editable": true
   },
   "outputs": [
    {
     "name": "stdout",
     "output_type": "stream",
     "text": [
      "Neural Network Built!\n"
     ]
    }
   ],
   "source": [
    "def conv_net(x, keep_prob):\n",
    "    \"\"\"\n",
    "    Create a convolutional neural network model\n",
    "    : x: Placeholder tensor that holds image data.\n",
    "    : keep_prob: Placeholder tensor that hold dropout keep probability.\n",
    "    : return: Tensor that represents logits\n",
    "    \"\"\"\n",
    "    # Hardcoding the variables here is pretty terrible idea\n",
    "    \n",
    "    # Function Definition from Above:\n",
    "    #    conv2d_maxpool(x_tensor, conv_num_outputs, conv_ksize, conv_strides, pool_ksize, pool_strides)\n",
    "    conv1 = conv2d_maxpool(x, 32, (6,6), (2,2), (2,2), (2,2))\n",
    "    \n",
    "    conv2 = conv2d_maxpool(conv1, 64, (4,4), (2,2), (2,2), (2,2))\n",
    "    \n",
    "    # Function Definition from Above:\n",
    "    #   flatten(x_tensor)\n",
    "    flat = flatten(conv2)\n",
    "\n",
    "    # Function Definition from Above:\n",
    "    #   fully_conn(x_tensor, num_outputs)\n",
    "    fc1 = fully_conn(flat, 512)\n",
    "    fc1 = tf.nn.dropout(fc1, keep_prob)\n",
    "    \n",
    "    fc2 = fully_conn(fc1, 256)\n",
    "    fc2 = tf.nn.dropout(fc2, keep_prob)\n",
    "    \n",
    "    # Function Definition from Above:\n",
    "    #   output(x_tensor, num_outputs)\n",
    "    out = output(fc2, 10)\n",
    "    \n",
    "    return out\n",
    "\n",
    "\n",
    "\"\"\"\n",
    "DON'T MODIFY ANYTHING IN THIS CELL THAT IS BELOW THIS LINE\n",
    "\"\"\"\n",
    "\n",
    "##############################\n",
    "## Build the Neural Network ##\n",
    "##############################\n",
    "\n",
    "# Remove previous weights, bias, inputs, etc..\n",
    "tf.reset_default_graph()\n",
    "\n",
    "# Inputs\n",
    "x = neural_net_image_input((32, 32, 3))\n",
    "y = neural_net_label_input(10)\n",
    "keep_prob = neural_net_keep_prob_input()\n",
    "\n",
    "# Model\n",
    "logits = conv_net(x, keep_prob)\n",
    "\n",
    "# Name logits Tensor, so that is can be loaded from disk after training\n",
    "logits = tf.identity(logits, name='logits')\n",
    "\n",
    "# Loss and Optimizer\n",
    "cost = tf.reduce_mean(tf.nn.softmax_cross_entropy_with_logits(logits=logits, labels=y))\n",
    "optimizer = tf.train.AdamOptimizer().minimize(cost)\n",
    "\n",
    "# Accuracy\n",
    "correct_pred = tf.equal(tf.argmax(logits, 1), tf.argmax(y, 1))\n",
    "accuracy = tf.reduce_mean(tf.cast(correct_pred, tf.float32), name='accuracy')\n",
    "\n",
    "tests.test_conv_net(conv_net)"
   ]
  },
  {
   "cell_type": "code",
   "execution_count": 30,
   "metadata": {
    "collapsed": false,
    "deletable": true,
    "editable": true
   },
   "outputs": [
    {
     "name": "stdout",
     "output_type": "stream",
     "text": [
      "Tests Passed\n"
     ]
    }
   ],
   "source": [
    "def train_neural_network(session, optimizer, keep_probability, feature_batch, label_batch):\n",
    "    \"\"\"\n",
    "    Optimize the session on a batch of images and labels\n",
    "    : session: Current TensorFlow session\n",
    "    : optimizer: TensorFlow optimizer function\n",
    "    : keep_probability: keep probability\n",
    "    : feature_batch: Batch of Numpy image data\n",
    "    : label_batch: Batch of Numpy label data\n",
    "    \"\"\"\n",
    "    session.run(optimizer, feed_dict={\n",
    "                    x: feature_batch,\n",
    "                    y: label_batch,\n",
    "                    keep_prob: keep_probability})\n",
    "    \n",
    "\n",
    "\n",
    "\"\"\"\n",
    "DON'T MODIFY ANYTHING IN THIS CELL THAT IS BELOW THIS LINE\n",
    "\"\"\"\n",
    "tests.test_train_nn(train_neural_network)"
   ]
  },
  {
   "cell_type": "markdown",
   "metadata": {
    "deletable": true,
    "editable": true
   },
   "source": [
    "### Show Stats\n",
    "Implement the function `print_stats` to print loss and validation accuracy.  Use the global variables `valid_features` and `valid_labels` to calculate validation accuracy.  Use a keep probability of `1.0` to calculate the loss and validation accuracy."
   ]
  },
  {
   "cell_type": "code",
   "execution_count": 31,
   "metadata": {
    "collapsed": false,
    "deletable": true,
    "editable": true
   },
   "outputs": [],
   "source": [
    "def print_stats(session, feature_batch, label_batch, cost, accuracy):\n",
    "    \"\"\"\n",
    "    Print information about loss and validation accuracy\n",
    "    : session: Current TensorFlow session\n",
    "    : feature_batch: Batch of Numpy image data\n",
    "    : label_batch: Batch of Numpy label data\n",
    "    : cost: TensorFlow cost function\n",
    "    : accuracy: TensorFlow accuracy function\n",
    "    \"\"\"\n",
    "    train_acc = session.run(accuracy, feed_dict={x: feature_batch, y:label_batch, keep_prob: 1.})\n",
    "    train_cost = session.run(cost, feed_dict={x: feature_batch, y:label_batch, keep_prob: 1.})\n",
    "    validation_acc = session.run(accuracy, feed_dict={x:valid_features, y:valid_labels, keep_prob:1.})\n",
    "    print('Training Acc: {0:.3f}, Cost: {1:.3f}, Validation Acc {2:.3f}'.format(train_acc, train_cost, validation_acc))"
   ]
  },
  {
   "cell_type": "markdown",
   "metadata": {
    "deletable": true,
    "editable": true
   },
   "source": [
    "### Hyperparameters\n",
    "Tune the following parameters:\n",
    "* Set `epochs` to the number of iterations until the network stops learning or start overfitting\n",
    "* Set `batch_size` to the highest number that your machine has memory for.  Most people set them to common sizes of memory:\n",
    " * 64\n",
    " * 128\n",
    " * 256\n",
    " * ...\n",
    "* Set `keep_probability` to the probability of keeping a node using dropout"
   ]
  },
  {
   "cell_type": "code",
   "execution_count": 32,
   "metadata": {
    "collapsed": true,
    "deletable": true,
    "editable": true
   },
   "outputs": [],
   "source": [
    "epochs = 25\n",
    "batch_size = 512\n",
    "keep_probability = 0.2"
   ]
  },
  {
   "cell_type": "markdown",
   "metadata": {
    "deletable": true,
    "editable": true
   },
   "source": [
    "### Train on a Single CIFAR-10 Batch\n",
    "Instead of training the neural network on all the CIFAR-10 batches of data, let's use a single batch. This should save time while you iterate on the model to get a better accuracy.  Once the final validation accuracy is 50% or greater, run the model on all the data in the next section."
   ]
  },
  {
   "cell_type": "code",
   "execution_count": 33,
   "metadata": {
    "collapsed": false,
    "deletable": true,
    "editable": true
   },
   "outputs": [
    {
     "name": "stdout",
     "output_type": "stream",
     "text": [
      "Checking the Training on a Single Batch...\n",
      "Epoch  1, CIFAR-10 Batch 1:  Training Acc: 0.203, Cost: 2.259, Validation Acc 0.198\n",
      "Epoch  2, CIFAR-10 Batch 1:  Training Acc: 0.257, Cost: 2.151, Validation Acc 0.247\n",
      "Epoch  3, CIFAR-10 Batch 1:  Training Acc: 0.331, Cost: 1.991, Validation Acc 0.306\n",
      "Epoch  4, CIFAR-10 Batch 1:  Training Acc: 0.365, Cost: 1.868, Validation Acc 0.338\n",
      "Epoch  5, CIFAR-10 Batch 1:  Training Acc: 0.422, Cost: 1.753, Validation Acc 0.377\n",
      "Epoch  6, CIFAR-10 Batch 1:  Training Acc: 0.426, Cost: 1.684, Validation Acc 0.396\n",
      "Epoch  7, CIFAR-10 Batch 1:  Training Acc: 0.443, Cost: 1.606, Validation Acc 0.400\n",
      "Epoch  8, CIFAR-10 Batch 1:  Training Acc: 0.480, Cost: 1.530, Validation Acc 0.427\n",
      "Epoch  9, CIFAR-10 Batch 1:  Training Acc: 0.520, Cost: 1.469, Validation Acc 0.436\n",
      "Epoch 10, CIFAR-10 Batch 1:  Training Acc: 0.517, Cost: 1.418, Validation Acc 0.443\n",
      "Epoch 11, CIFAR-10 Batch 1:  Training Acc: 0.530, Cost: 1.368, Validation Acc 0.455\n",
      "Epoch 12, CIFAR-10 Batch 1:  Training Acc: 0.554, Cost: 1.282, Validation Acc 0.468\n",
      "Epoch 13, CIFAR-10 Batch 1:  Training Acc: 0.581, Cost: 1.232, Validation Acc 0.471\n",
      "Epoch 14, CIFAR-10 Batch 1:  Training Acc: 0.598, Cost: 1.179, Validation Acc 0.489\n",
      "Epoch 15, CIFAR-10 Batch 1:  Training Acc: 0.591, Cost: 1.154, Validation Acc 0.479\n",
      "Epoch 16, CIFAR-10 Batch 1:  Training Acc: 0.632, Cost: 1.085, Validation Acc 0.497\n",
      "Epoch 17, CIFAR-10 Batch 1:  Training Acc: 0.652, Cost: 1.050, Validation Acc 0.498\n",
      "Epoch 18, CIFAR-10 Batch 1:  Training Acc: 0.689, Cost: 0.997, Validation Acc 0.506\n",
      "Epoch 19, CIFAR-10 Batch 1:  Training Acc: 0.693, Cost: 0.975, Validation Acc 0.507\n",
      "Epoch 20, CIFAR-10 Batch 1:  Training Acc: 0.716, Cost: 0.911, Validation Acc 0.508\n",
      "Epoch 21, CIFAR-10 Batch 1:  Training Acc: 0.706, Cost: 0.889, Validation Acc 0.512\n",
      "Epoch 22, CIFAR-10 Batch 1:  Training Acc: 0.726, Cost: 0.829, Validation Acc 0.512\n",
      "Epoch 23, CIFAR-10 Batch 1:  Training Acc: 0.747, Cost: 0.798, Validation Acc 0.516\n",
      "Epoch 24, CIFAR-10 Batch 1:  Training Acc: 0.784, Cost: 0.773, Validation Acc 0.519\n",
      "Epoch 25, CIFAR-10 Batch 1:  Training Acc: 0.770, Cost: 0.743, Validation Acc 0.510\n"
     ]
    }
   ],
   "source": [
    "\"\"\"\n",
    "DON'T MODIFY ANYTHING IN THIS CELL\n",
    "\"\"\"\n",
    "print('Checking the Training on a Single Batch...')\n",
    "with tf.Session() as sess:\n",
    "    # Initializing the variables\n",
    "    sess.run(tf.global_variables_initializer())\n",
    "    \n",
    "    # Training cycle\n",
    "    for epoch in range(epochs):\n",
    "        batch_i = 1\n",
    "        for batch_features, batch_labels in helper.load_preprocess_training_batch(batch_i, batch_size):\n",
    "            train_neural_network(sess, optimizer, keep_probability, batch_features, batch_labels)\n",
    "        print('Epoch {:>2}, CIFAR-10 Batch {}:  '.format(epoch + 1, batch_i), end='')\n",
    "        print_stats(sess, batch_features, batch_labels, cost, accuracy)"
   ]
  },
  {
   "cell_type": "markdown",
   "metadata": {
    "deletable": true,
    "editable": true
   },
   "source": [
    "### Fully Train the Model\n",
    "Now that you got a good accuracy with a single CIFAR-10 batch, try it with all five batches."
   ]
  },
  {
   "cell_type": "code",
   "execution_count": 34,
   "metadata": {
    "collapsed": false,
    "deletable": true,
    "editable": true,
    "scrolled": false
   },
   "outputs": [
    {
     "name": "stdout",
     "output_type": "stream",
     "text": [
      "Training...\n",
      "Epoch  1, CIFAR-10 Batch 1:  Training Acc: 0.166, Cost: 2.283, Validation Acc 0.191\n",
      "Epoch  1, CIFAR-10 Batch 2:  Training Acc: 0.250, Cost: 2.208, Validation Acc 0.223\n",
      "Epoch  1, CIFAR-10 Batch 3:  Training Acc: 0.270, Cost: 2.066, Validation Acc 0.251\n",
      "Epoch  1, CIFAR-10 Batch 4:  Training Acc: 0.378, Cost: 1.859, Validation Acc 0.304\n",
      "Epoch  1, CIFAR-10 Batch 5:  Training Acc: 0.334, Cost: 1.845, Validation Acc 0.331\n",
      "Epoch  2, CIFAR-10 Batch 1:  Training Acc: 0.385, Cost: 1.788, Validation Acc 0.390\n",
      "Epoch  2, CIFAR-10 Batch 2:  Training Acc: 0.426, Cost: 1.666, Validation Acc 0.399\n",
      "Epoch  2, CIFAR-10 Batch 3:  Training Acc: 0.463, Cost: 1.524, Validation Acc 0.416\n",
      "Epoch  2, CIFAR-10 Batch 4:  Training Acc: 0.453, Cost: 1.504, Validation Acc 0.434\n",
      "Epoch  2, CIFAR-10 Batch 5:  Training Acc: 0.426, Cost: 1.577, Validation Acc 0.423\n",
      "Epoch  3, CIFAR-10 Batch 1:  Training Acc: 0.422, Cost: 1.599, Validation Acc 0.435\n",
      "Epoch  3, CIFAR-10 Batch 2:  Training Acc: 0.463, Cost: 1.516, Validation Acc 0.461\n",
      "Epoch  3, CIFAR-10 Batch 3:  Training Acc: 0.541, Cost: 1.347, Validation Acc 0.465\n",
      "Epoch  3, CIFAR-10 Batch 4:  Training Acc: 0.514, Cost: 1.371, Validation Acc 0.470\n",
      "Epoch  3, CIFAR-10 Batch 5:  Training Acc: 0.500, Cost: 1.415, Validation Acc 0.463\n",
      "Epoch  4, CIFAR-10 Batch 1:  Training Acc: 0.466, Cost: 1.451, Validation Acc 0.480\n",
      "Epoch  4, CIFAR-10 Batch 2:  Training Acc: 0.500, Cost: 1.419, Validation Acc 0.487\n",
      "Epoch  4, CIFAR-10 Batch 3:  Training Acc: 0.520, Cost: 1.268, Validation Acc 0.489\n",
      "Epoch  4, CIFAR-10 Batch 4:  Training Acc: 0.557, Cost: 1.244, Validation Acc 0.510\n",
      "Epoch  4, CIFAR-10 Batch 5:  Training Acc: 0.561, Cost: 1.299, Validation Acc 0.498\n",
      "Epoch  5, CIFAR-10 Batch 1:  Training Acc: 0.503, Cost: 1.356, Validation Acc 0.508\n",
      "Epoch  5, CIFAR-10 Batch 2:  Training Acc: 0.547, Cost: 1.311, Validation Acc 0.511\n",
      "Epoch  5, CIFAR-10 Batch 3:  Training Acc: 0.581, Cost: 1.174, Validation Acc 0.511\n",
      "Epoch  5, CIFAR-10 Batch 4:  Training Acc: 0.584, Cost: 1.177, Validation Acc 0.519\n",
      "Epoch  5, CIFAR-10 Batch 5:  Training Acc: 0.584, Cost: 1.232, Validation Acc 0.523\n",
      "Epoch  6, CIFAR-10 Batch 1:  Training Acc: 0.554, Cost: 1.278, Validation Acc 0.536\n",
      "Epoch  6, CIFAR-10 Batch 2:  Training Acc: 0.584, Cost: 1.211, Validation Acc 0.531\n",
      "Epoch  6, CIFAR-10 Batch 3:  Training Acc: 0.618, Cost: 1.120, Validation Acc 0.526\n",
      "Epoch  6, CIFAR-10 Batch 4:  Training Acc: 0.581, Cost: 1.081, Validation Acc 0.538\n",
      "Epoch  6, CIFAR-10 Batch 5:  Training Acc: 0.618, Cost: 1.147, Validation Acc 0.546\n",
      "Epoch  7, CIFAR-10 Batch 1:  Training Acc: 0.588, Cost: 1.207, Validation Acc 0.555\n",
      "Epoch  7, CIFAR-10 Batch 2:  Training Acc: 0.584, Cost: 1.175, Validation Acc 0.538\n",
      "Epoch  7, CIFAR-10 Batch 3:  Training Acc: 0.611, Cost: 1.051, Validation Acc 0.541\n",
      "Epoch  7, CIFAR-10 Batch 4:  Training Acc: 0.622, Cost: 1.026, Validation Acc 0.551\n",
      "Epoch  7, CIFAR-10 Batch 5:  Training Acc: 0.628, Cost: 1.077, Validation Acc 0.562\n",
      "Epoch  8, CIFAR-10 Batch 1:  Training Acc: 0.608, Cost: 1.154, Validation Acc 0.563\n",
      "Epoch  8, CIFAR-10 Batch 2:  Training Acc: 0.625, Cost: 1.084, Validation Acc 0.557\n",
      "Epoch  8, CIFAR-10 Batch 3:  Training Acc: 0.649, Cost: 0.996, Validation Acc 0.567\n",
      "Epoch  8, CIFAR-10 Batch 4:  Training Acc: 0.655, Cost: 0.980, Validation Acc 0.559\n",
      "Epoch  8, CIFAR-10 Batch 5:  Training Acc: 0.625, Cost: 1.036, Validation Acc 0.573\n",
      "Epoch  9, CIFAR-10 Batch 1:  Training Acc: 0.628, Cost: 1.092, Validation Acc 0.577\n",
      "Epoch  9, CIFAR-10 Batch 2:  Training Acc: 0.645, Cost: 1.060, Validation Acc 0.569\n",
      "Epoch  9, CIFAR-10 Batch 3:  Training Acc: 0.679, Cost: 0.935, Validation Acc 0.578\n",
      "Epoch  9, CIFAR-10 Batch 4:  Training Acc: 0.679, Cost: 0.919, Validation Acc 0.574\n",
      "Epoch  9, CIFAR-10 Batch 5:  Training Acc: 0.679, Cost: 0.957, Validation Acc 0.584\n",
      "Epoch 10, CIFAR-10 Batch 1:  Training Acc: 0.628, Cost: 1.051, Validation Acc 0.584\n",
      "Epoch 10, CIFAR-10 Batch 2:  Training Acc: 0.635, Cost: 1.028, Validation Acc 0.557\n",
      "Epoch 10, CIFAR-10 Batch 3:  Training Acc: 0.672, Cost: 0.913, Validation Acc 0.580\n",
      "Epoch 10, CIFAR-10 Batch 4:  Training Acc: 0.682, Cost: 0.865, Validation Acc 0.586\n",
      "Epoch 10, CIFAR-10 Batch 5:  Training Acc: 0.686, Cost: 0.923, Validation Acc 0.592\n",
      "Epoch 11, CIFAR-10 Batch 1:  Training Acc: 0.666, Cost: 0.988, Validation Acc 0.591\n",
      "Epoch 11, CIFAR-10 Batch 2:  Training Acc: 0.679, Cost: 0.981, Validation Acc 0.573\n",
      "Epoch 11, CIFAR-10 Batch 3:  Training Acc: 0.696, Cost: 0.868, Validation Acc 0.591\n",
      "Epoch 11, CIFAR-10 Batch 4:  Training Acc: 0.743, Cost: 0.817, Validation Acc 0.597\n",
      "Epoch 11, CIFAR-10 Batch 5:  Training Acc: 0.693, Cost: 0.865, Validation Acc 0.602\n",
      "Epoch 12, CIFAR-10 Batch 1:  Training Acc: 0.672, Cost: 0.946, Validation Acc 0.592\n",
      "Epoch 12, CIFAR-10 Batch 2:  Training Acc: 0.659, Cost: 0.945, Validation Acc 0.577\n",
      "Epoch 12, CIFAR-10 Batch 3:  Training Acc: 0.720, Cost: 0.846, Validation Acc 0.588\n",
      "Epoch 12, CIFAR-10 Batch 4:  Training Acc: 0.753, Cost: 0.807, Validation Acc 0.606\n",
      "Epoch 12, CIFAR-10 Batch 5:  Training Acc: 0.703, Cost: 0.833, Validation Acc 0.607\n",
      "Epoch 13, CIFAR-10 Batch 1:  Training Acc: 0.699, Cost: 0.885, Validation Acc 0.600\n",
      "Epoch 13, CIFAR-10 Batch 2:  Training Acc: 0.682, Cost: 0.903, Validation Acc 0.590\n",
      "Epoch 13, CIFAR-10 Batch 3:  Training Acc: 0.713, Cost: 0.798, Validation Acc 0.593\n",
      "Epoch 13, CIFAR-10 Batch 4:  Training Acc: 0.753, Cost: 0.759, Validation Acc 0.608\n",
      "Epoch 13, CIFAR-10 Batch 5:  Training Acc: 0.716, Cost: 0.801, Validation Acc 0.611\n",
      "Epoch 14, CIFAR-10 Batch 1:  Training Acc: 0.703, Cost: 0.838, Validation Acc 0.602\n",
      "Epoch 14, CIFAR-10 Batch 2:  Training Acc: 0.696, Cost: 0.880, Validation Acc 0.598\n",
      "Epoch 14, CIFAR-10 Batch 3:  Training Acc: 0.723, Cost: 0.774, Validation Acc 0.603\n",
      "Epoch 14, CIFAR-10 Batch 4:  Training Acc: 0.750, Cost: 0.759, Validation Acc 0.608\n",
      "Epoch 14, CIFAR-10 Batch 5:  Training Acc: 0.760, Cost: 0.755, Validation Acc 0.613\n",
      "Epoch 15, CIFAR-10 Batch 1:  Training Acc: 0.706, Cost: 0.808, Validation Acc 0.607\n",
      "Epoch 15, CIFAR-10 Batch 2:  Training Acc: 0.713, Cost: 0.854, Validation Acc 0.584\n",
      "Epoch 15, CIFAR-10 Batch 3:  Training Acc: 0.743, Cost: 0.769, Validation Acc 0.613\n",
      "Epoch 15, CIFAR-10 Batch 4:  Training Acc: 0.760, Cost: 0.713, Validation Acc 0.615\n",
      "Epoch 15, CIFAR-10 Batch 5:  Training Acc: 0.743, Cost: 0.744, Validation Acc 0.618\n",
      "Epoch 16, CIFAR-10 Batch 1:  Training Acc: 0.747, Cost: 0.765, Validation Acc 0.613\n",
      "Epoch 16, CIFAR-10 Batch 2:  Training Acc: 0.713, Cost: 0.816, Validation Acc 0.602\n",
      "Epoch 16, CIFAR-10 Batch 3:  Training Acc: 0.780, Cost: 0.712, Validation Acc 0.618\n",
      "Epoch 16, CIFAR-10 Batch 4:  Training Acc: 0.791, Cost: 0.664, Validation Acc 0.625\n",
      "Epoch 16, CIFAR-10 Batch 5:  Training Acc: 0.777, Cost: 0.694, Validation Acc 0.622\n",
      "Epoch 17, CIFAR-10 Batch 1:  Training Acc: 0.733, Cost: 0.733, Validation Acc 0.616\n",
      "Epoch 17, CIFAR-10 Batch 2:  Training Acc: 0.747, Cost: 0.771, Validation Acc 0.602\n",
      "Epoch 17, CIFAR-10 Batch 3:  Training Acc: 0.777, Cost: 0.685, Validation Acc 0.610\n",
      "Epoch 17, CIFAR-10 Batch 4:  Training Acc: 0.777, Cost: 0.660, Validation Acc 0.613\n",
      "Epoch 17, CIFAR-10 Batch 5:  Training Acc: 0.770, Cost: 0.697, Validation Acc 0.620\n",
      "Epoch 18, CIFAR-10 Batch 1:  Training Acc: 0.753, Cost: 0.704, Validation Acc 0.617\n",
      "Epoch 18, CIFAR-10 Batch 2:  Training Acc: 0.757, Cost: 0.722, Validation Acc 0.627\n",
      "Epoch 18, CIFAR-10 Batch 3:  Training Acc: 0.777, Cost: 0.652, Validation Acc 0.620\n",
      "Epoch 18, CIFAR-10 Batch 4:  Training Acc: 0.767, Cost: 0.678, Validation Acc 0.621\n",
      "Epoch 18, CIFAR-10 Batch 5:  Training Acc: 0.767, Cost: 0.678, Validation Acc 0.627\n",
      "Epoch 19, CIFAR-10 Batch 1:  Training Acc: 0.747, Cost: 0.682, Validation Acc 0.625\n",
      "Epoch 19, CIFAR-10 Batch 2:  Training Acc: 0.736, Cost: 0.765, Validation Acc 0.618\n",
      "Epoch 19, CIFAR-10 Batch 3:  Training Acc: 0.814, Cost: 0.590, Validation Acc 0.634\n",
      "Epoch 19, CIFAR-10 Batch 4:  Training Acc: 0.797, Cost: 0.635, Validation Acc 0.620\n",
      "Epoch 19, CIFAR-10 Batch 5:  Training Acc: 0.794, Cost: 0.636, Validation Acc 0.621\n",
      "Epoch 20, CIFAR-10 Batch 1:  Training Acc: 0.777, Cost: 0.653, Validation Acc 0.622\n",
      "Epoch 20, CIFAR-10 Batch 2:  Training Acc: 0.757, Cost: 0.734, Validation Acc 0.618\n",
      "Epoch 20, CIFAR-10 Batch 3:  Training Acc: 0.811, Cost: 0.601, Validation Acc 0.629\n",
      "Epoch 20, CIFAR-10 Batch 4:  Training Acc: 0.767, Cost: 0.616, Validation Acc 0.618\n",
      "Epoch 20, CIFAR-10 Batch 5:  Training Acc: 0.777, Cost: 0.607, Validation Acc 0.635\n",
      "Epoch 21, CIFAR-10 Batch 1:  Training Acc: 0.774, Cost: 0.613, Validation Acc 0.631\n",
      "Epoch 21, CIFAR-10 Batch 2:  Training Acc: 0.777, Cost: 0.658, Validation Acc 0.629\n",
      "Epoch 21, CIFAR-10 Batch 3:  Training Acc: 0.818, Cost: 0.554, Validation Acc 0.636\n",
      "Epoch 21, CIFAR-10 Batch 4:  Training Acc: 0.794, Cost: 0.588, Validation Acc 0.634\n",
      "Epoch 21, CIFAR-10 Batch 5:  Training Acc: 0.797, Cost: 0.577, Validation Acc 0.632\n",
      "Epoch 22, CIFAR-10 Batch 1:  Training Acc: 0.774, Cost: 0.622, Validation Acc 0.618\n",
      "Epoch 22, CIFAR-10 Batch 2:  Training Acc: 0.774, Cost: 0.670, Validation Acc 0.611\n",
      "Epoch 22, CIFAR-10 Batch 3:  Training Acc: 0.818, Cost: 0.546, Validation Acc 0.632\n",
      "Epoch 22, CIFAR-10 Batch 4:  Training Acc: 0.811, Cost: 0.581, Validation Acc 0.634\n",
      "Epoch 22, CIFAR-10 Batch 5:  Training Acc: 0.801, Cost: 0.589, Validation Acc 0.630\n",
      "Epoch 23, CIFAR-10 Batch 1:  Training Acc: 0.797, Cost: 0.596, Validation Acc 0.621\n",
      "Epoch 23, CIFAR-10 Batch 2:  Training Acc: 0.797, Cost: 0.602, Validation Acc 0.632\n",
      "Epoch 23, CIFAR-10 Batch 3:  Training Acc: 0.828, Cost: 0.515, Validation Acc 0.629\n",
      "Epoch 23, CIFAR-10 Batch 4:  Training Acc: 0.814, Cost: 0.540, Validation Acc 0.634\n",
      "Epoch 23, CIFAR-10 Batch 5:  Training Acc: 0.807, Cost: 0.537, Validation Acc 0.631\n",
      "Epoch 24, CIFAR-10 Batch 1:  Training Acc: 0.801, Cost: 0.552, Validation Acc 0.627\n",
      "Epoch 24, CIFAR-10 Batch 2:  Training Acc: 0.814, Cost: 0.609, Validation Acc 0.633\n",
      "Epoch 24, CIFAR-10 Batch 3:  Training Acc: 0.831, Cost: 0.494, Validation Acc 0.635\n",
      "Epoch 24, CIFAR-10 Batch 4:  Training Acc: 0.814, Cost: 0.520, Validation Acc 0.635\n",
      "Epoch 24, CIFAR-10 Batch 5:  Training Acc: 0.828, Cost: 0.514, Validation Acc 0.632\n",
      "Epoch 25, CIFAR-10 Batch 1:  Training Acc: 0.797, Cost: 0.581, Validation Acc 0.612\n",
      "Epoch 25, CIFAR-10 Batch 2:  Training Acc: 0.824, Cost: 0.567, Validation Acc 0.639\n",
      "Epoch 25, CIFAR-10 Batch 3:  Training Acc: 0.818, Cost: 0.510, Validation Acc 0.635\n",
      "Epoch 25, CIFAR-10 Batch 4:  Training Acc: 0.821, Cost: 0.518, Validation Acc 0.630\n",
      "Epoch 25, CIFAR-10 Batch 5:  Training Acc: 0.811, Cost: 0.514, Validation Acc 0.620\n"
     ]
    }
   ],
   "source": [
    "\"\"\"\n",
    "DON'T MODIFY ANYTHING IN THIS CELL\n",
    "\"\"\"\n",
    "save_model_path = './image_classification'\n",
    "\n",
    "print('Training...')\n",
    "with tf.Session() as sess:\n",
    "    # Initializing the variables\n",
    "    sess.run(tf.global_variables_initializer())\n",
    "    \n",
    "    # Training cycle\n",
    "    for epoch in range(epochs):\n",
    "        # Loop over all batches\n",
    "        n_batches = 5\n",
    "        for batch_i in range(1, n_batches + 1):\n",
    "            for batch_features, batch_labels in helper.load_preprocess_training_batch(batch_i, batch_size):\n",
    "                train_neural_network(sess, optimizer, keep_probability, batch_features, batch_labels)\n",
    "            print('Epoch {:>2}, CIFAR-10 Batch {}:  '.format(epoch + 1, batch_i), end='')\n",
    "            print_stats(sess, batch_features, batch_labels, cost, accuracy)\n",
    "            \n",
    "    # Save Model\n",
    "    saver = tf.train.Saver()\n",
    "    save_path = saver.save(sess, save_model_path)"
   ]
  },
  {
   "cell_type": "markdown",
   "metadata": {
    "deletable": true,
    "editable": true
   },
   "source": [
    "# Checkpoint\n",
    "The model has been saved to disk.\n",
    "## Test Model\n",
    "Test your model against the test dataset.  This will be your final accuracy. You should have an accuracy greater than 50%. If you don't, keep tweaking the model architecture and parameters."
   ]
  },
  {
   "cell_type": "code",
   "execution_count": 35,
   "metadata": {
    "collapsed": false,
    "deletable": true,
    "editable": true
   },
   "outputs": [
    {
     "name": "stdout",
     "output_type": "stream",
     "text": [
      "Testing Accuracy: 0.6295553773641587\n",
      "\n"
     ]
    },
    {
     "data": {
      "image/png": "[encoded data removed]",
      "text/plain": [
       "<matplotlib.figure.Figure at 0x7f5bec0a9828>"
      ]
     },
     "metadata": {
      "image/png": {
       "height": 319,
       "width": 355
      }
     },
     "output_type": "display_data"
    }
   ],
   "source": [
    "\"\"\"\n",
    "DON'T MODIFY ANYTHING IN THIS CELL\n",
    "\"\"\"\n",
    "%matplotlib inline\n",
    "%config InlineBackend.figure_format = 'retina'\n",
    "\n",
    "import tensorflow as tf\n",
    "import pickle\n",
    "import helper\n",
    "import random\n",
    "\n",
    "# Set batch size if not already set\n",
    "try:\n",
    "    if batch_size:\n",
    "        pass\n",
    "except NameError:\n",
    "    batch_size = 64\n",
    "\n",
    "save_model_path = './image_classification'\n",
    "n_samples = 4\n",
    "top_n_predictions = 3\n",
    "\n",
    "def test_model():\n",
    "    \"\"\"\n",
    "    Test the saved model against the test dataset\n",
    "    \"\"\"\n",
    "\n",
    "    test_features, test_labels = pickle.load(open('preprocess_training.p', mode='rb'))\n",
    "    loaded_graph = tf.Graph()\n",
    "\n",
    "    with tf.Session(graph=loaded_graph) as sess:\n",
    "        # Load model\n",
    "        loader = tf.train.import_meta_graph(save_model_path + '.meta')\n",
    "        loader.restore(sess, save_model_path)\n",
    "\n",
    "        # Get Tensors from loaded model\n",
    "        loaded_x = loaded_graph.get_tensor_by_name('x:0')\n",
    "        loaded_y = loaded_graph.get_tensor_by_name('y:0')\n",
    "        loaded_keep_prob = loaded_graph.get_tensor_by_name('keep_prob:0')\n",
    "        loaded_logits = loaded_graph.get_tensor_by_name('logits:0')\n",
    "        loaded_acc = loaded_graph.get_tensor_by_name('accuracy:0')\n",
    "        \n",
    "        # Get accuracy in batches for memory limitations\n",
    "        test_batch_acc_total = 0\n",
    "        test_batch_count = 0\n",
    "        \n",
    "        for train_feature_batch, train_label_batch in helper.batch_features_labels(test_features, test_labels, batch_size):\n",
    "            test_batch_acc_total += sess.run(\n",
    "                loaded_acc,\n",
    "                feed_dict={loaded_x: train_feature_batch, loaded_y: train_label_batch, loaded_keep_prob: 1.0})\n",
    "            test_batch_count += 1\n",
    "\n",
    "        print('Testing Accuracy: {}\\n'.format(test_batch_acc_total/test_batch_count))\n",
    "\n",
    "        # Print Random Samples\n",
    "        random_test_features, random_test_labels = tuple(zip(*random.sample(list(zip(test_features, test_labels)), n_samples)))\n",
    "        random_test_predictions = sess.run(\n",
    "            tf.nn.top_k(tf.nn.softmax(loaded_logits), top_n_predictions),\n",
    "            feed_dict={loaded_x: random_test_features, loaded_y: random_test_labels, loaded_keep_prob: 1.0})\n",
    "        helper.display_image_predictions(random_test_features, random_test_labels, random_test_predictions)\n",
    "\n",
    "\n",
    "test_model()"
   ]
  },
  {
   "cell_type": "markdown",
   "metadata": {
    "deletable": true,
    "editable": true
   },
   "source": [
    "## Why 50-70% Accuracy?\n",
    "You might be wondering why you can't get an accuracy any higher. First things first, 50% isn't bad for a simple CNN.  Pure guessing would get you 10% accuracy. However, you might notice people are getting scores [well above 70%](http://rodrigob.github.io/are_we_there_yet/build/classification_datasets_results.html#43494641522d3130).  That's because we haven't taught you all there is to know about neural networks. We still need to cover a few more techniques.\n",
    "## Submitting This Project\n",
    "When submitting this project, make sure to run all the cells before saving the notebook.  Save the notebook file as \"dlnd_image_classification.ipynb\" and save it as a HTML file under \"File\" -> \"Download as\".  Include the \"helper.py\" and \"problem_unittests.py\" files in your submission."
   ]
  }
 ],
 "metadata": {
  "hide_input": false,
  "kernelspec": {
   "display_name": "Python 3",
   "language": "python",
   "name": "python3"
  },
  "language_info": {
   "codemirror_mode": {
    "name": "ipython",
    "version": 3
   },
   "file_extension": ".py",
   "mimetype": "text/x-python",
   "name": "python",
   "nbconvert_exporter": "python",
   "pygments_lexer": "ipython3",
   "version": "3.5.2"
  }
 },
 "nbformat": 4,
 "nbformat_minor": 0
}
