{
 "cells": [
  {
   "cell_type": "markdown",
   "metadata": {
    "collapsed": true,
    "deletable": true,
    "editable": true
   },
   "source": [
    "# Image Classification\n",
    "In this project, you'll classify images from the [CIFAR-10 dataset](https://www.cs.toronto.edu/~kriz/cifar.html).  The dataset consists of airplanes, dogs, cats, and other objects. You'll preprocess the images, then train a convolutional neural network on all the samples. The images need to be normalized and the labels need to be one-hot encoded.  You'll get to apply what you learned and build a convolutional, max pooling, dropout, and fully connected layers.  At the end, you'll get to see your neural network's predictions on the sample images.\n",
    "## Get the Data\n",
    "Run the following cell to download the [CIFAR-10 dataset for python](https://www.cs.toronto.edu/~kriz/cifar-10-python.tar.gz)."
   ]
  },
  {
   "cell_type": "code",
   "execution_count": 1,
   "metadata": {
    "collapsed": false,
    "deletable": true,
    "editable": true
   },
   "outputs": [
    {
     "name": "stdout",
     "output_type": "stream",
     "text": [
      "All files found!\n"
     ]
    }
   ],
   "source": [
    "\"\"\"\n",
    "DON'T MODIFY ANYTHING IN THIS CELL THAT IS BELOW THIS LINE\n",
    "\"\"\"\n",
    "from urllib.request import urlretrieve\n",
    "from os.path import isfile, isdir\n",
    "from tqdm import tqdm\n",
    "import problem_unittests as tests\n",
    "import tarfile\n",
    "\n",
    "cifar10_dataset_folder_path = 'cifar-10-batches-py'\n",
    "\n",
    "class DLProgress(tqdm):\n",
    "    last_block = 0\n",
    "\n",
    "    def hook(self, block_num=1, block_size=1, total_size=None):\n",
    "        self.total = total_size\n",
    "        self.update((block_num - self.last_block) * block_size)\n",
    "        self.last_block = block_num\n",
    "\n",
    "if not isfile('cifar-10-python.tar.gz'):\n",
    "    with DLProgress(unit='B', unit_scale=True, miniters=1, desc='CIFAR-10 Dataset') as pbar:\n",
    "        urlretrieve(\n",
    "            'https://www.cs.toronto.edu/~kriz/cifar-10-python.tar.gz',\n",
    "            'cifar-10-python.tar.gz',\n",
    "            pbar.hook)\n",
    "\n",
    "if not isdir(cifar10_dataset_folder_path):\n",
    "    with tarfile.open('cifar-10-python.tar.gz') as tar:\n",
    "        tar.extractall()\n",
    "        tar.close()\n",
    "\n",
    "\n",
    "tests.test_folder_path(cifar10_dataset_folder_path)"
   ]
  },
  {
   "cell_type": "markdown",
   "metadata": {
    "deletable": true,
    "editable": true
   },
   "source": [
    "## Explore the Data\n",
    "The dataset is broken into batches to prevent your machine from running out of memory.  The CIFAR-10 dataset consists of 5 batches, named `data_batch_1`, `data_batch_2`, etc.. Each batch contains the labels and images that are one of the following:\n",
    "* airplane\n",
    "* automobile\n",
    "* bird\n",
    "* cat\n",
    "* deer\n",
    "* dog\n",
    "* frog\n",
    "* horse\n",
    "* ship\n",
    "* truck\n",
    "\n",
    "Understanding a dataset is part of making predictions on the data.  Play around with the code cell below by changing the `batch_id` and `sample_id`. The `batch_id` is the id for a batch (1-5). The `sample_id` is the id for a image and label pair in the batch.\n",
    "\n",
    "Ask yourself \"What are all possible labels?\", \"What is the range of values for the image data?\", \"Are the labels in order or random?\".  Answers to questions like these will help you preprocess the data and end up with better predictions."
   ]
  },
  {
   "cell_type": "code",
   "execution_count": 2,
   "metadata": {
    "collapsed": false,
    "deletable": true,
    "editable": true
   },
   "outputs": [
    {
     "name": "stdout",
     "output_type": "stream",
     "text": [
      "\n",
      "Stats of batch 4:\n",
      "Samples: 10000\n",
      "Label Counts: {0: 1003, 1: 963, 2: 1041, 3: 976, 4: 1004, 5: 1021, 6: 1004, 7: 981, 8: 1024, 9: 983}\n",
      "First 20 Labels: [0, 6, 0, 2, 7, 2, 1, 2, 4, 1, 5, 6, 6, 3, 1, 3, 5, 5, 8, 1]\n",
      "\n",
      "Example of Image 9999:\n",
      "Image - Min Value: 0 Max Value: 255\n",
      "Image - Shape: (32, 32, 3)\n",
      "Label - Label Id: 8 Name: ship\n"
     ]
    },
    {
     "data": {
      "image/png": "[encoded data removed]",
      "text/plain": [
       "<matplotlib.figure.Figure at 0x7fbad767a7b8>"
      ]
     },
     "metadata": {
      "image/png": {
       "height": 250,
       "width": 253
      }
     },
     "output_type": "display_data"
    }
   ],
   "source": [
    "%matplotlib inline\n",
    "%config InlineBackend.figure_format = 'retina'\n",
    "\n",
    "import helper\n",
    "import numpy as np\n",
    "\n",
    "# Explore the dataset\n",
    "batch_id = 4\n",
    "sample_id = 9999\n",
    "helper.display_stats(cifar10_dataset_folder_path, batch_id, sample_id)"
   ]
  },
  {
   "cell_type": "markdown",
   "metadata": {
    "deletable": true,
    "editable": true
   },
   "source": [
    "## Implement Preprocess Functions\n",
    "### Normalize\n",
    "In the cell below, implement the `normalize` function to take in image data, `x`, and return it as a normalized Numpy array. The values should be in the range of 0 to 1, inclusive.  The return object should be the same shape as `x`."
   ]
  },
  {
   "cell_type": "code",
   "execution_count": 3,
   "metadata": {
    "collapsed": false,
    "deletable": true,
    "editable": true
   },
   "outputs": [
    {
     "name": "stdout",
     "output_type": "stream",
     "text": [
      "Tests Passed\n"
     ]
    }
   ],
   "source": [
    "import numpy as np\n",
    "\n",
    "def normalize(x):\n",
    "    \"\"\"\n",
    "    Normalize a list of sample image data in the range of 0 to 1\n",
    "    : x: List of image data.  The image shape is (32, 32, 3)\n",
    "    : return: Numpy array of normalize data\n",
    "    \"\"\"\n",
    "    # Implemented specifically for RGB image normalization, pixel values in [0, 255]\n",
    "    np_x = np.array(x)\n",
    "    return (np_x) / 255\n",
    "\n",
    "\n",
    "\"\"\"\n",
    "DON'T MODIFY ANYTHING IN THIS CELL THAT IS BELOW THIS LINE\n",
    "\"\"\"\n",
    "tests.test_normalize(normalize)"
   ]
  },
  {
   "cell_type": "markdown",
   "metadata": {
    "deletable": true,
    "editable": true
   },
   "source": [
    "### One-hot encode\n",
    "Just like the previous code cell, you'll be implementing a function for preprocessing.  This time, you'll implement the `one_hot_encode` function. The input, `x`, are a list of labels.  Implement the function to return the list of labels as One-Hot encoded Numpy array.  The possible values for labels are 0 to 9. The one-hot encoding function should return the same encoding for each value between each call to `one_hot_encode`.  Make sure to save the map of encodings outside the function.\n",
    "\n",
    "Hint: Don't reinvent the wheel."
   ]
  },
  {
   "cell_type": "code",
   "execution_count": 4,
   "metadata": {
    "collapsed": false,
    "deletable": true,
    "editable": true
   },
   "outputs": [
    {
     "name": "stdout",
     "output_type": "stream",
     "text": [
      "Tests Passed\n"
     ]
    }
   ],
   "source": [
    "def one_hot_encode(x):\n",
    "    \"\"\"\n",
    "    One hot encode a list of sample labels. Return a one-hot encoded vector for each label.\n",
    "    : x: List of sample Labels\n",
    "    : return: Numpy array of one-hot encoded labels\n",
    "    \"\"\"\n",
    "    # Hard coded number of labels, again not a great solution but \n",
    "    # it is not clear whether it is possible to infer number of labels\n",
    "    # from input x\n",
    "    one_hot = np.zeros((len(x), 10))\n",
    "    for i, label in enumerate(x):\n",
    "        one_hot[i][label] = 1\n",
    "    return one_hot\n",
    "\n",
    "\n",
    "\"\"\"\n",
    "DON'T MODIFY ANYTHING IN THIS CELL THAT IS BELOW THIS LINE\n",
    "\"\"\"\n",
    "tests.test_one_hot_encode(one_hot_encode)"
   ]
  },
  {
   "cell_type": "markdown",
   "metadata": {
    "deletable": true,
    "editable": true
   },
   "source": [
    "### Randomize Data\n",
    "As you saw from exploring the data above, the order of the samples are randomized.  It doesn't hurt to randomize it again, but you don't need to for this dataset."
   ]
  },
  {
   "cell_type": "markdown",
   "metadata": {
    "deletable": true,
    "editable": true
   },
   "source": [
    "## Preprocess all the data and save it\n",
    "Running the code cell below will preprocess all the CIFAR-10 data and save it to file. The code below also uses 10% of the training data for validation."
   ]
  },
  {
   "cell_type": "code",
   "execution_count": 5,
   "metadata": {
    "collapsed": false,
    "deletable": true,
    "editable": true
   },
   "outputs": [],
   "source": [
    "\"\"\"\n",
    "DON'T MODIFY ANYTHING IN THIS CELL\n",
    "\"\"\"\n",
    "# Preprocess Training, Validation, and Testing Data\n",
    "helper.preprocess_and_save_data(cifar10_dataset_folder_path, normalize, one_hot_encode)"
   ]
  },
  {
   "cell_type": "markdown",
   "metadata": {
    "deletable": true,
    "editable": true
   },
   "source": [
    "# Check Point\n",
    "This is your first checkpoint.  If you ever decide to come back to this notebook or have to restart the notebook, you can start from here.  The preprocessed data has been saved to disk."
   ]
  },
  {
   "cell_type": "code",
   "execution_count": 6,
   "metadata": {
    "collapsed": true,
    "deletable": true,
    "editable": true
   },
   "outputs": [],
   "source": [
    "\"\"\"\n",
    "DON'T MODIFY ANYTHING IN THIS CELL\n",
    "\"\"\"\n",
    "import pickle\n",
    "import problem_unittests as tests\n",
    "import helper\n",
    "\n",
    "# Load the Preprocessed Validation data\n",
    "valid_features, valid_labels = pickle.load(open('preprocess_validation.p', mode='rb'))"
   ]
  },
  {
   "cell_type": "markdown",
   "metadata": {
    "deletable": true,
    "editable": true
   },
   "source": [
    "## Build the network\n",
    "For the neural network, you'll build each layer into a function.  Most of the code you've seen has been outside of functions. To test your code more thoroughly, we require that you put each layer in a function.  This allows us to give you better feedback and test for simple mistakes using our unittests before you submit your project.\n",
    "\n",
    ">**Note:** If you're finding it hard to dedicate enough time for this course each week, we've provided a small shortcut to this part of the project. In the next couple of problems, you'll have the option to use classes from the [TensorFlow Layers](https://www.tensorflow.org/api_docs/python/tf/layers) or [TensorFlow Layers (contrib)](https://www.tensorflow.org/api_guides/python/contrib.layers) packages to build each layer, except the layers you build in the \"Convolutional and Max Pooling Layer\" section.  TF Layers is similar to Keras's and TFLearn's abstraction to layers, so it's easy to pickup.\n",
    "\n",
    ">However, if you would like to get the most out of this course, try to solve all the problems _without_ using anything from the TF Layers packages. You **can** still use classes from other packages that happen to have the same name as ones you find in TF Layers! For example, instead of using the TF Layers version of the `conv2d` class, [tf.layers.conv2d](https://www.tensorflow.org/api_docs/python/tf/layers/conv2d), you would want to use the TF Neural Network version of `conv2d`, [tf.nn.conv2d](https://www.tensorflow.org/api_docs/python/tf/nn/conv2d). \n",
    "\n",
    "Let's begin!\n",
    "\n",
    "### Input\n",
    "The neural network needs to read the image data, one-hot encoded labels, and dropout keep probability. Implement the following functions\n",
    "* Implement `neural_net_image_input`\n",
    " * Return a [TF Placeholder](https://www.tensorflow.org/api_docs/python/tf/placeholder)\n",
    " * Set the shape using `image_shape` with batch size set to `None`.\n",
    " * Name the TensorFlow placeholder \"x\" using the TensorFlow `name` parameter in the [TF Placeholder](https://www.tensorflow.org/api_docs/python/tf/placeholder).\n",
    "* Implement `neural_net_label_input`\n",
    " * Return a [TF Placeholder](https://www.tensorflow.org/api_docs/python/tf/placeholder)\n",
    " * Set the shape using `n_classes` with batch size set to `None`.\n",
    " * Name the TensorFlow placeholder \"y\" using the TensorFlow `name` parameter in the [TF Placeholder](https://www.tensorflow.org/api_docs/python/tf/placeholder).\n",
    "* Implement `neural_net_keep_prob_input`\n",
    " * Return a [TF Placeholder](https://www.tensorflow.org/api_docs/python/tf/placeholder) for dropout keep probability.\n",
    " * Name the TensorFlow placeholder \"keep_prob\" using the TensorFlow `name` parameter in the [TF Placeholder](https://www.tensorflow.org/api_docs/python/tf/placeholder).\n",
    "\n",
    "These names will be used at the end of the project to load your saved model.\n",
    "\n",
    "Note: `None` for shapes in TensorFlow allow for a dynamic size."
   ]
  },
  {
   "cell_type": "code",
   "execution_count": 7,
   "metadata": {
    "collapsed": false,
    "deletable": true,
    "editable": true
   },
   "outputs": [
    {
     "name": "stdout",
     "output_type": "stream",
     "text": [
      "Image Input Tests Passed.\n",
      "Label Input Tests Passed.\n",
      "Keep Prob Tests Passed.\n"
     ]
    }
   ],
   "source": [
    "import tensorflow as tf\n",
    "\n",
    "def neural_net_image_input(image_shape):\n",
    "    \"\"\"\n",
    "    Return a Tensor for a bach of image input\n",
    "    : image_shape: Shape of the images\n",
    "    : return: Tensor for image input.\n",
    "    \"\"\"\n",
    "    return tf.placeholder(tf.float32, shape=[None, 32, 32, 3], name=\"x\")\n",
    "\n",
    "\n",
    "def neural_net_label_input(n_classes):\n",
    "    \"\"\"\n",
    "    Return a Tensor for a batch of label input\n",
    "    : n_classes: Number of classes\n",
    "    : return: Tensor for label input.\n",
    "    \"\"\"\n",
    "    # TODO: Implement Function\n",
    "    return tf.placeholder(tf.int32, (None, 10), name=\"y\")\n",
    "\n",
    "\n",
    "def neural_net_keep_prob_input():\n",
    "    \"\"\"\n",
    "    Return a Tensor for keep probability\n",
    "    : return: Tensor for keep probability.\n",
    "    \"\"\"\n",
    "    # TODO: Implement Function\n",
    "    return tf.placeholder(tf.float32, name=\"keep_prob\")\n",
    "\n",
    "\n",
    "\"\"\"\n",
    "DON'T MODIFY ANYTHING IN THIS CELL THAT IS BELOW THIS LINE\n",
    "\"\"\"\n",
    "tf.reset_default_graph()\n",
    "tests.test_nn_image_inputs(neural_net_image_input)\n",
    "tests.test_nn_label_inputs(neural_net_label_input)\n",
    "tests.test_nn_keep_prob_inputs(neural_net_keep_prob_input)"
   ]
  },
  {
   "cell_type": "markdown",
   "metadata": {
    "deletable": true,
    "editable": true
   },
   "source": [
    "### Convolution and Max Pooling Layer\n",
    "Convolution layers have a lot of success with images. For this code cell, you should implement the function `conv2d_maxpool` to apply convolution then max pooling:\n",
    "* Create the weight and bias using `conv_ksize`, `conv_num_outputs` and the shape of `x_tensor`.\n",
    "* Apply a convolution to `x_tensor` using weight and `conv_strides`.\n",
    " * We recommend you use same padding, but you're welcome to use any padding.\n",
    "* Add bias\n",
    "* Add a nonlinear activation to the convolution.\n",
    "* Apply Max Pooling using `pool_ksize` and `pool_strides`.\n",
    " * We recommend you use same padding, but you're welcome to use any padding.\n",
    "\n",
    "**Note:** You **can't** use [TensorFlow Layers](https://www.tensorflow.org/api_docs/python/tf/layers) or [TensorFlow Layers (contrib)](https://www.tensorflow.org/api_guides/python/contrib.layers) for **this** layer, but you can still use TensorFlow's [Neural Network](https://www.tensorflow.org/api_docs/python/tf/nn) package. You may still use the shortcut option for all the **other** layers."
   ]
  },
  {
   "cell_type": "code",
   "execution_count": 8,
   "metadata": {
    "collapsed": false,
    "deletable": true,
    "editable": true
   },
   "outputs": [
    {
     "name": "stdout",
     "output_type": "stream",
     "text": [
      "Tests Passed\n"
     ]
    }
   ],
   "source": [
    "def conv2d_maxpool(x_tensor, conv_num_outputs, conv_ksize, conv_strides, pool_ksize, pool_strides):\n",
    "    \"\"\"\n",
    "    Apply convolution then max pooling to x_tensor\n",
    "    :param x_tensor: TensorFlow Tensor\n",
    "    :param conv_num_outputs: Number of outputs for the convolutional layer\n",
    "    :param conv_ksize: kernal size 2-D Tuple for the convolutional layer\n",
    "    :param conv_strides: Stride 2-D Tuple for convolution\n",
    "    :param pool_ksize: kernal size 2-D Tuple for pool\n",
    "    :param pool_strides: Stride 2-D Tuple for pool\n",
    "    : return: A tensor that represents convolution and max pooling of x_tensor\n",
    "    \"\"\"\n",
    "    # Shape is: Convolution dim1 size, Convolution dim2 size, \n",
    "    # number of channgels (last dimmension of tensor), number of desired outputs\n",
    "    w_shape = (conv_ksize[0], conv_ksize[1], x_tensor.get_shape().as_list()[-1], conv_num_outputs)\n",
    "    weight = tf.Variable(tf.truncated_normal(w_shape, stddev=0.1))\n",
    "    bias = tf.Variable(tf.zeros(conv_num_outputs))\n",
    "    \n",
    "    # A list of ints. 1-D of length 4. The stride of the sliding window for each dimension of input. \n",
    "    # Must be in the same order as the dimension specified with format.\n",
    "    conv2d_shape = (1, conv_strides[0], conv_strides[1], 1)\n",
    "    conv_layer = tf.nn.conv2d(x_tensor, weight, strides=conv2d_shape, padding='SAME')\n",
    "    conv_layer = tf.nn.bias_add(conv_layer, bias)\n",
    "    conv_layer = tf.nn.relu(conv_layer)\n",
    "    \n",
    "    #ksize: A list of ints that has length >= 4. \n",
    "    # The size of the window for each dimension of the input tensor.\n",
    "    # strides: A list of ints that has length >= 4. \n",
    "    # The stride of the sliding window for each dimension of the input tensor.\n",
    "    max_pool_k_shape = (1, pool_ksize[0], pool_ksize[1], 1)\n",
    "    max_pool_stride_shape = (1, pool_strides[0], pool_strides[1], 1)\n",
    "    conv_layer = tf.nn.max_pool(conv_layer, ksize=max_pool_k_shape, strides=max_pool_stride_shape, padding='SAME')\n",
    "    \n",
    "    return conv_layer \n",
    "\n",
    "\n",
    "\"\"\"\n",
    "DON'T MODIFY ANYTHING IN THIS CELL THAT IS BELOW THIS LINE\n",
    "\"\"\"\n",
    "tests.test_con_pool(conv2d_maxpool)"
   ]
  },
  {
   "cell_type": "markdown",
   "metadata": {
    "deletable": true,
    "editable": true
   },
   "source": [
    "### Flatten Layer\n",
    "Implement the `flatten` function to change the dimension of `x_tensor` from a 4-D tensor to a 2-D tensor.  The output should be the shape (*Batch Size*, *Flattened Image Size*). Shortcut option: you can use classes from the [TensorFlow Layers](https://www.tensorflow.org/api_docs/python/tf/layers) or [TensorFlow Layers (contrib)](https://www.tensorflow.org/api_guides/python/contrib.layers) packages for this layer. For more of a challenge, only use other TensorFlow packages."
   ]
  },
  {
   "cell_type": "code",
   "execution_count": 9,
   "metadata": {
    "collapsed": false,
    "deletable": true,
    "editable": true
   },
   "outputs": [
    {
     "name": "stdout",
     "output_type": "stream",
     "text": [
      "Tests Passed\n"
     ]
    }
   ],
   "source": [
    "def flatten(x_tensor):\n",
    "    \"\"\"\n",
    "    Flatten x_tensor to (Batch Size, Flattened Image Size)\n",
    "    : x_tensor: A tensor of size (Batch Size, ...), where ... are the image dimensions.\n",
    "    : return: A tensor of size (Batch Size, Flattened Image Size).\n",
    "    \"\"\"\n",
    "    x_dim = x_tensor.get_shape().as_list() \n",
    "    return tf.reshape(x_tensor, [-1, np.prod(x_dim[1:])])\n",
    "\n",
    "\n",
    "\"\"\"\n",
    "DON'T MODIFY ANYTHING IN THIS CELL THAT IS BELOW THIS LINE\n",
    "\"\"\"\n",
    "tests.test_flatten(flatten)"
   ]
  },
  {
   "cell_type": "markdown",
   "metadata": {
    "deletable": true,
    "editable": true
   },
   "source": [
    "### Fully-Connected Layer\n",
    "Implement the `fully_conn` function to apply a fully connected layer to `x_tensor` with the shape (*Batch Size*, *num_outputs*). Shortcut option: you can use classes from the [TensorFlow Layers](https://www.tensorflow.org/api_docs/python/tf/layers) or [TensorFlow Layers (contrib)](https://www.tensorflow.org/api_guides/python/contrib.layers) packages for this layer. For more of a challenge, only use other TensorFlow packages."
   ]
  },
  {
   "cell_type": "code",
   "execution_count": 10,
   "metadata": {
    "collapsed": false,
    "deletable": true,
    "editable": true
   },
   "outputs": [
    {
     "name": "stdout",
     "output_type": "stream",
     "text": [
      "Tests Passed\n"
     ]
    }
   ],
   "source": [
    "def fully_conn(x_tensor, num_outputs):\n",
    "    \"\"\"\n",
    "    Apply a fully connected layer to x_tensor using weight and bias\n",
    "    : x_tensor: A 2-D tensor where the first dimension is batch size.\n",
    "    : num_outputs: The number of output that the new tensor should be.\n",
    "    : return: A 2-D tensor where the second dimension is num_outputs.\n",
    "    \"\"\"\n",
    "    fully_weight = tf.Variable(tf.random_normal([x_tensor.get_shape().as_list()[1], num_outputs], stddev=0.1))\n",
    "    fully_bias = tf.Variable(tf.zeros([num_outputs]))\n",
    "    x_tensor = tf.add(tf.matmul(x_tensor, fully_weight), fully_bias)\n",
    "    return x_tensor\n",
    "\n",
    "\n",
    "\"\"\"\n",
    "DON'T MODIFY ANYTHING IN THIS CELL THAT IS BELOW THIS LINE\n",
    "\"\"\"\n",
    "tests.test_fully_conn(fully_conn)"
   ]
  },
  {
   "cell_type": "markdown",
   "metadata": {
    "deletable": true,
    "editable": true
   },
   "source": [
    "### Output Layer\n",
    "Implement the `output` function to apply a fully connected layer to `x_tensor` with the shape (*Batch Size*, *num_outputs*). Shortcut option: you can use classes from the [TensorFlow Layers](https://www.tensorflow.org/api_docs/python/tf/layers) or [TensorFlow Layers (contrib)](https://www.tensorflow.org/api_guides/python/contrib.layers) packages for this layer. For more of a challenge, only use other TensorFlow packages.\n",
    "\n",
    "**Note:** Activation, softmax, or cross entropy should **not** be applied to this."
   ]
  },
  {
   "cell_type": "code",
   "execution_count": 11,
   "metadata": {
    "collapsed": false,
    "deletable": true,
    "editable": true
   },
   "outputs": [
    {
     "name": "stdout",
     "output_type": "stream",
     "text": [
      "Tests Passed\n"
     ]
    }
   ],
   "source": [
    "def output(x_tensor, num_outputs):\n",
    "    \"\"\"\n",
    "    Apply a output layer to x_tensor using weight and bias\n",
    "    : x_tensor: A 2-D tensor where the first dimension is batch size.\n",
    "    : num_outputs: The number of output that the new tensor should be.\n",
    "    : return: A 2-D tensor where the second dimension is num_outputs.\n",
    "    \"\"\"\n",
    "    out_weight = tf.Variable(tf.random_normal([x_tensor.get_shape().as_list()[1], num_outputs], stddev=0.1))\n",
    "    out_bias = tf.Variable(tf.zeros([num_outputs]))\n",
    "    x_tensor = tf.add(tf.matmul(x_tensor, out_weight), out_bias)\n",
    "    return x_tensor\n",
    "\n",
    "\n",
    "\"\"\"\n",
    "DON'T MODIFY ANYTHING IN THIS CELL THAT IS BELOW THIS LINE\n",
    "\"\"\"\n",
    "tests.test_output(output)"
   ]
  },
  {
   "cell_type": "markdown",
   "metadata": {
    "deletable": true,
    "editable": true
   },
   "source": [
    "### Create Convolutional Model\n",
    "Implement the function `conv_net` to create a convolutional neural network model. The function takes in a batch of images, `x`, and outputs logits.  Use the layers you created above to create this model:\n",
    "\n",
    "* Apply 1, 2, or 3 Convolution and Max Pool layers\n",
    "* Apply a Flatten Layer\n",
    "* Apply 1, 2, or 3 Fully Connected Layers\n",
    "* Apply an Output Layer\n",
    "* Return the output\n",
    "* Apply [TensorFlow's Dropout](https://www.tensorflow.org/api_docs/python/tf/nn/dropout) to one or more layers in the model using `keep_prob`. "
   ]
  },
  {
   "cell_type": "markdown",
   "metadata": {
    "deletable": true,
    "editable": true
   },
   "source": [
    "## Train the Neural Network\n",
    "### Single Optimization\n",
    "Implement the function `train_neural_network` to do a single optimization.  The optimization should use `optimizer` to optimize in `session` with a `feed_dict` of the following:\n",
    "* `x` for image input\n",
    "* `y` for labels\n",
    "* `keep_prob` for keep probability for dropout\n",
    "\n",
    "This function will be called for each batch, so `tf.global_variables_initializer()` has already been called.\n",
    "\n",
    "Note: Nothing needs to be returned. This function is only optimizing the neural network."
   ]
  },
  {
   "cell_type": "code",
   "execution_count": 12,
   "metadata": {
    "collapsed": false,
    "deletable": true,
    "editable": true
   },
   "outputs": [
    {
     "name": "stdout",
     "output_type": "stream",
     "text": [
      "Neural Network Built!\n"
     ]
    }
   ],
   "source": [
    "def conv_net(x, keep_prob):\n",
    "    \"\"\"\n",
    "    Create a convolutional neural network model\n",
    "    : x: Placeholder tensor that holds image data.\n",
    "    : keep_prob: Placeholder tensor that hold dropout keep probability.\n",
    "    : return: Tensor that represents logits\n",
    "    \"\"\"\n",
    "    # Hardcoding the variables here is pretty terrible idea\n",
    "    \n",
    "    # Function Definition from Above:\n",
    "    #    conv2d_maxpool(x_tensor, conv_num_outputs, conv_ksize, conv_strides, pool_ksize, pool_strides)\n",
    "    conv1 = conv2d_maxpool(x, 32, (6,6), (2,2), (2,2), (2,2))\n",
    "    \n",
    "    conv2 = conv2d_maxpool(conv1, 64, (4,4), (2,2), (2,2), (2,2))\n",
    "    \n",
    "    # Function Definition from Above:\n",
    "    #   flatten(x_tensor)\n",
    "    flat = flatten(conv2)\n",
    "\n",
    "    # Function Definition from Above:\n",
    "    #   fully_conn(x_tensor, num_outputs)\n",
    "    fc1 = fully_conn(flat, 512)\n",
    "    fc1 = tf.nn.relu(fc1)\n",
    "    fc1 = tf.nn.dropout(fc1, keep_prob)\n",
    "    \n",
    "    fc2 = fully_conn(fc1, 256)\n",
    "    fc2 = tf.nn.relu(fc2)\n",
    "    \n",
    "    # Function Definition from Above:\n",
    "    #   output(x_tensor, num_outputs)\n",
    "    out = output(fc2, 10)\n",
    "    \n",
    "    return out\n",
    "\n",
    "\n",
    "\"\"\"\n",
    "DON'T MODIFY ANYTHING IN THIS CELL THAT IS BELOW THIS LINE\n",
    "\"\"\"\n",
    "\n",
    "##############################\n",
    "## Build the Neural Network ##\n",
    "##############################\n",
    "\n",
    "# Remove previous weights, bias, inputs, etc..\n",
    "tf.reset_default_graph()\n",
    "\n",
    "# Inputs\n",
    "x = neural_net_image_input((32, 32, 3))\n",
    "y = neural_net_label_input(10)\n",
    "keep_prob = neural_net_keep_prob_input()\n",
    "\n",
    "# Model\n",
    "logits = conv_net(x, keep_prob)\n",
    "\n",
    "# Name logits Tensor, so that is can be loaded from disk after training\n",
    "logits = tf.identity(logits, name='logits')\n",
    "\n",
    "# Loss and Optimizer\n",
    "cost = tf.reduce_mean(tf.nn.softmax_cross_entropy_with_logits(logits=logits, labels=y))\n",
    "optimizer = tf.train.AdamOptimizer().minimize(cost)\n",
    "\n",
    "# Accuracy\n",
    "correct_pred = tf.equal(tf.argmax(logits, 1), tf.argmax(y, 1))\n",
    "accuracy = tf.reduce_mean(tf.cast(correct_pred, tf.float32), name='accuracy')\n",
    "\n",
    "tests.test_conv_net(conv_net)"
   ]
  },
  {
   "cell_type": "code",
   "execution_count": 13,
   "metadata": {
    "collapsed": false,
    "deletable": true,
    "editable": true
   },
   "outputs": [
    {
     "name": "stdout",
     "output_type": "stream",
     "text": [
      "Tests Passed\n"
     ]
    }
   ],
   "source": [
    "def train_neural_network(session, optimizer, keep_probability, feature_batch, label_batch):\n",
    "    \"\"\"\n",
    "    Optimize the session on a batch of images and labels\n",
    "    : session: Current TensorFlow session\n",
    "    : optimizer: TensorFlow optimizer function\n",
    "    : keep_probability: keep probability\n",
    "    : feature_batch: Batch of Numpy image data\n",
    "    : label_batch: Batch of Numpy label data\n",
    "    \"\"\"\n",
    "    session.run(optimizer, feed_dict={\n",
    "                    x: feature_batch,\n",
    "                    y: label_batch,\n",
    "                    keep_prob: keep_probability})\n",
    "    \n",
    "\n",
    "\n",
    "\"\"\"\n",
    "DON'T MODIFY ANYTHING IN THIS CELL THAT IS BELOW THIS LINE\n",
    "\"\"\"\n",
    "tests.test_train_nn(train_neural_network)"
   ]
  },
  {
   "cell_type": "markdown",
   "metadata": {
    "deletable": true,
    "editable": true
   },
   "source": [
    "### Show Stats\n",
    "Implement the function `print_stats` to print loss and validation accuracy.  Use the global variables `valid_features` and `valid_labels` to calculate validation accuracy.  Use a keep probability of `1.0` to calculate the loss and validation accuracy."
   ]
  },
  {
   "cell_type": "code",
   "execution_count": 14,
   "metadata": {
    "collapsed": false,
    "deletable": true,
    "editable": true
   },
   "outputs": [],
   "source": [
    "def print_stats(session, feature_batch, label_batch, cost, accuracy):\n",
    "    \"\"\"\n",
    "    Print information about loss and validation accuracy\n",
    "    : session: Current TensorFlow session\n",
    "    : feature_batch: Batch of Numpy image data\n",
    "    : label_batch: Batch of Numpy label data\n",
    "    : cost: TensorFlow cost function\n",
    "    : accuracy: TensorFlow accuracy function\n",
    "    \"\"\"\n",
    "    test_acc = session.run(accuracy, feed_dict={x: feature_batch, y:label_batch, keep_prob: 1.})\n",
    "    test_cost = session.run(cost, feed_dict={x: feature_batch, y:label_batch, keep_prob: 1.})\n",
    "    print('Accuracy: {}, Cost: {}'.format(test_acc, test_cost))"
   ]
  },
  {
   "cell_type": "markdown",
   "metadata": {
    "deletable": true,
    "editable": true
   },
   "source": [
    "### Hyperparameters\n",
    "Tune the following parameters:\n",
    "* Set `epochs` to the number of iterations until the network stops learning or start overfitting\n",
    "* Set `batch_size` to the highest number that your machine has memory for.  Most people set them to common sizes of memory:\n",
    " * 64\n",
    " * 128\n",
    " * 256\n",
    " * ...\n",
    "* Set `keep_probability` to the probability of keeping a node using dropout"
   ]
  },
  {
   "cell_type": "code",
   "execution_count": 17,
   "metadata": {
    "collapsed": true,
    "deletable": true,
    "editable": true
   },
   "outputs": [],
   "source": [
    "epochs = 25\n",
    "batch_size = 512\n",
    "keep_probability = 0.5"
   ]
  },
  {
   "cell_type": "markdown",
   "metadata": {
    "deletable": true,
    "editable": true
   },
   "source": [
    "### Train on a Single CIFAR-10 Batch\n",
    "Instead of training the neural network on all the CIFAR-10 batches of data, let's use a single batch. This should save time while you iterate on the model to get a better accuracy.  Once the final validation accuracy is 50% or greater, run the model on all the data in the next section."
   ]
  },
  {
   "cell_type": "code",
   "execution_count": 18,
   "metadata": {
    "collapsed": false,
    "deletable": true,
    "editable": true
   },
   "outputs": [
    {
     "name": "stdout",
     "output_type": "stream",
     "text": [
      "Checking the Training on a Single Batch...\n",
      "Epoch  1, CIFAR-10 Batch 1:  Accuracy: 0.22297297418117523, Cost: 2.2059173583984375\n",
      "Epoch  2, CIFAR-10 Batch 1:  Accuracy: 0.3074324429035187, Cost: 1.9963500499725342\n",
      "Epoch  3, CIFAR-10 Batch 1:  Accuracy: 0.3952702581882477, Cost: 1.8350363969802856\n",
      "Epoch  4, CIFAR-10 Batch 1:  Accuracy: 0.4425675570964813, Cost: 1.6861374378204346\n",
      "Epoch  5, CIFAR-10 Batch 1:  Accuracy: 0.4763513505458832, Cost: 1.5902068614959717\n",
      "Epoch  6, CIFAR-10 Batch 1:  Accuracy: 0.4864864945411682, Cost: 1.523295521736145\n",
      "Epoch  7, CIFAR-10 Batch 1:  Accuracy: 0.4864864945411682, Cost: 1.4327298402786255\n",
      "Epoch  8, CIFAR-10 Batch 1:  Accuracy: 0.4864864945411682, Cost: 1.3948276042938232\n",
      "Epoch  9, CIFAR-10 Batch 1:  Accuracy: 0.5337837934494019, Cost: 1.3300977945327759\n",
      "Epoch 10, CIFAR-10 Batch 1:  Accuracy: 0.5608108043670654, Cost: 1.2529529333114624\n",
      "Epoch 11, CIFAR-10 Batch 1:  Accuracy: 0.587837815284729, Cost: 1.1925029754638672\n",
      "Epoch 12, CIFAR-10 Batch 1:  Accuracy: 0.6114864945411682, Cost: 1.1371251344680786\n",
      "Epoch 13, CIFAR-10 Batch 1:  Accuracy: 0.6385135054588318, Cost: 1.0746558904647827\n",
      "Epoch 14, CIFAR-10 Batch 1:  Accuracy: 0.6756756901741028, Cost: 0.9978006482124329\n",
      "Epoch 15, CIFAR-10 Batch 1:  Accuracy: 0.6756756901741028, Cost: 0.9696688055992126\n",
      "Epoch 16, CIFAR-10 Batch 1:  Accuracy: 0.6790540814399719, Cost: 0.9060336947441101\n",
      "Epoch 17, CIFAR-10 Batch 1:  Accuracy: 0.7229729890823364, Cost: 0.8693934082984924\n",
      "Epoch 18, CIFAR-10 Batch 1:  Accuracy: 0.7364864945411682, Cost: 0.8442564606666565\n",
      "Epoch 19, CIFAR-10 Batch 1:  Accuracy: 0.7432432174682617, Cost: 0.7694520950317383\n",
      "Epoch 20, CIFAR-10 Batch 1:  Accuracy: 0.7668918967247009, Cost: 0.7343353629112244\n",
      "Epoch 21, CIFAR-10 Batch 1:  Accuracy: 0.7804054021835327, Cost: 0.6931198835372925\n",
      "Epoch 22, CIFAR-10 Batch 1:  Accuracy: 0.8175675868988037, Cost: 0.6542490124702454\n",
      "Epoch 23, CIFAR-10 Batch 1:  Accuracy: 0.8243243098258972, Cost: 0.6201382875442505\n",
      "Epoch 24, CIFAR-10 Batch 1:  Accuracy: 0.8344594836235046, Cost: 0.5961652994155884\n",
      "Epoch 25, CIFAR-10 Batch 1:  Accuracy: 0.8310810923576355, Cost: 0.5625054240226746\n"
     ]
    }
   ],
   "source": [
    "\"\"\"\n",
    "DON'T MODIFY ANYTHING IN THIS CELL\n",
    "\"\"\"\n",
    "print('Checking the Training on a Single Batch...')\n",
    "with tf.Session() as sess:\n",
    "    # Initializing the variables\n",
    "    sess.run(tf.global_variables_initializer())\n",
    "    \n",
    "    # Training cycle\n",
    "    for epoch in range(epochs):\n",
    "        batch_i = 1\n",
    "        for batch_features, batch_labels in helper.load_preprocess_training_batch(batch_i, batch_size):\n",
    "            train_neural_network(sess, optimizer, keep_probability, batch_features, batch_labels)\n",
    "        print('Epoch {:>2}, CIFAR-10 Batch {}:  '.format(epoch + 1, batch_i), end='')\n",
    "        print_stats(sess, batch_features, batch_labels, cost, accuracy)"
   ]
  },
  {
   "cell_type": "markdown",
   "metadata": {
    "deletable": true,
    "editable": true
   },
   "source": [
    "### Fully Train the Model\n",
    "Now that you got a good accuracy with a single CIFAR-10 batch, try it with all five batches."
   ]
  },
  {
   "cell_type": "code",
   "execution_count": 19,
   "metadata": {
    "collapsed": false,
    "deletable": true,
    "editable": true,
    "scrolled": false
   },
   "outputs": [
    {
     "name": "stdout",
     "output_type": "stream",
     "text": [
      "Training...\n",
      "Epoch  1, CIFAR-10 Batch 1:  Accuracy: 0.24662162363529205, Cost: 2.1940455436706543\n",
      "Epoch  1, CIFAR-10 Batch 2:  Accuracy: 0.3175675570964813, Cost: 1.9345340728759766\n",
      "Epoch  1, CIFAR-10 Batch 3:  Accuracy: 0.3918918967247009, Cost: 1.7842060327529907\n",
      "Epoch  1, CIFAR-10 Batch 4:  Accuracy: 0.40878379344940186, Cost: 1.6470506191253662\n",
      "Epoch  1, CIFAR-10 Batch 5:  Accuracy: 0.4054054021835327, Cost: 1.6614835262298584\n",
      "Epoch  2, CIFAR-10 Batch 1:  Accuracy: 0.4189189076423645, Cost: 1.6967966556549072\n",
      "Epoch  2, CIFAR-10 Batch 2:  Accuracy: 0.4560810923576355, Cost: 1.5660117864608765\n",
      "Epoch  2, CIFAR-10 Batch 3:  Accuracy: 0.4864864945411682, Cost: 1.4379433393478394\n",
      "Epoch  2, CIFAR-10 Batch 4:  Accuracy: 0.4797297418117523, Cost: 1.3793004751205444\n",
      "Epoch  2, CIFAR-10 Batch 5:  Accuracy: 0.49662160873413086, Cost: 1.452061653137207\n",
      "Epoch  3, CIFAR-10 Batch 1:  Accuracy: 0.47297295928001404, Cost: 1.5252310037612915\n",
      "Epoch  3, CIFAR-10 Batch 2:  Accuracy: 0.5033783912658691, Cost: 1.4566882848739624\n",
      "Epoch  3, CIFAR-10 Batch 3:  Accuracy: 0.5405405163764954, Cost: 1.2360955476760864\n",
      "Epoch  3, CIFAR-10 Batch 4:  Accuracy: 0.5405405163764954, Cost: 1.2591108083724976\n",
      "Epoch  3, CIFAR-10 Batch 5:  Accuracy: 0.5405405163764954, Cost: 1.2909075021743774\n",
      "Epoch  4, CIFAR-10 Batch 1:  Accuracy: 0.5472972989082336, Cost: 1.34822678565979\n",
      "Epoch  4, CIFAR-10 Batch 2:  Accuracy: 0.5641891956329346, Cost: 1.3246231079101562\n",
      "Epoch  4, CIFAR-10 Batch 3:  Accuracy: 0.5675675868988037, Cost: 1.1417956352233887\n",
      "Epoch  4, CIFAR-10 Batch 4:  Accuracy: 0.5912162065505981, Cost: 1.126861333847046\n",
      "Epoch  4, CIFAR-10 Batch 5:  Accuracy: 0.5641891956329346, Cost: 1.1694029569625854\n",
      "Epoch  5, CIFAR-10 Batch 1:  Accuracy: 0.6081081032752991, Cost: 1.249859094619751\n",
      "Epoch  5, CIFAR-10 Batch 2:  Accuracy: 0.587837815284729, Cost: 1.229509949684143\n",
      "Epoch  5, CIFAR-10 Batch 3:  Accuracy: 0.6148648858070374, Cost: 1.0734413862228394\n",
      "Epoch  5, CIFAR-10 Batch 4:  Accuracy: 0.625, Cost: 1.0496667623519897\n",
      "Epoch  5, CIFAR-10 Batch 5:  Accuracy: 0.6013513803482056, Cost: 1.0951969623565674\n",
      "Epoch  6, CIFAR-10 Batch 1:  Accuracy: 0.625, Cost: 1.181480050086975\n",
      "Epoch  6, CIFAR-10 Batch 2:  Accuracy: 0.6114864945411682, Cost: 1.1635985374450684\n",
      "Epoch  6, CIFAR-10 Batch 3:  Accuracy: 0.6351351141929626, Cost: 1.0010830163955688\n",
      "Epoch  6, CIFAR-10 Batch 4:  Accuracy: 0.6351351141929626, Cost: 0.9922266006469727\n",
      "Epoch  6, CIFAR-10 Batch 5:  Accuracy: 0.6114864945411682, Cost: 1.0259524583816528\n",
      "Epoch  7, CIFAR-10 Batch 1:  Accuracy: 0.6655405163764954, Cost: 1.0966852903366089\n",
      "Epoch  7, CIFAR-10 Batch 2:  Accuracy: 0.6216216087341309, Cost: 1.0562388896942139\n",
      "Epoch  7, CIFAR-10 Batch 3:  Accuracy: 0.6520270109176636, Cost: 0.9769424200057983\n",
      "Epoch  7, CIFAR-10 Batch 4:  Accuracy: 0.6790540814399719, Cost: 0.9099165201187134\n",
      "Epoch  7, CIFAR-10 Batch 5:  Accuracy: 0.6655405163764954, Cost: 0.9545409679412842\n",
      "Epoch  8, CIFAR-10 Batch 1:  Accuracy: 0.6756756901741028, Cost: 1.0327377319335938\n",
      "Epoch  8, CIFAR-10 Batch 2:  Accuracy: 0.6756756901741028, Cost: 1.0037193298339844\n",
      "Epoch  8, CIFAR-10 Batch 3:  Accuracy: 0.7094594836235046, Cost: 0.8848996758460999\n",
      "Epoch  8, CIFAR-10 Batch 4:  Accuracy: 0.7297297120094299, Cost: 0.8355157971382141\n",
      "Epoch  8, CIFAR-10 Batch 5:  Accuracy: 0.6756756901741028, Cost: 0.9098300337791443\n",
      "Epoch  9, CIFAR-10 Batch 1:  Accuracy: 0.6790540814399719, Cost: 0.9950998425483704\n",
      "Epoch  9, CIFAR-10 Batch 2:  Accuracy: 0.6959459185600281, Cost: 0.9152787923812866\n",
      "Epoch  9, CIFAR-10 Batch 3:  Accuracy: 0.7297297120094299, Cost: 0.8344759345054626\n",
      "Epoch  9, CIFAR-10 Batch 4:  Accuracy: 0.7195945978164673, Cost: 0.8108647465705872\n",
      "Epoch  9, CIFAR-10 Batch 5:  Accuracy: 0.6790540814399719, Cost: 0.8712164163589478\n",
      "Epoch 10, CIFAR-10 Batch 1:  Accuracy: 0.6993243098258972, Cost: 0.9617994427680969\n",
      "Epoch 10, CIFAR-10 Batch 2:  Accuracy: 0.6925675868988037, Cost: 0.8890624046325684\n",
      "Epoch 10, CIFAR-10 Batch 3:  Accuracy: 0.7162162065505981, Cost: 0.8461683988571167\n",
      "Epoch 10, CIFAR-10 Batch 4:  Accuracy: 0.7432432174682617, Cost: 0.7526431083679199\n",
      "Epoch 10, CIFAR-10 Batch 5:  Accuracy: 0.7195945978164673, Cost: 0.8148155212402344\n",
      "Epoch 11, CIFAR-10 Batch 1:  Accuracy: 0.7094594836235046, Cost: 0.8684492111206055\n",
      "Epoch 11, CIFAR-10 Batch 2:  Accuracy: 0.7094594836235046, Cost: 0.8509707450866699\n",
      "Epoch 11, CIFAR-10 Batch 3:  Accuracy: 0.7297297120094299, Cost: 0.7940117716789246\n",
      "Epoch 11, CIFAR-10 Batch 4:  Accuracy: 0.7668918967247009, Cost: 0.7050344944000244\n",
      "Epoch 11, CIFAR-10 Batch 5:  Accuracy: 0.75, Cost: 0.7578533291816711\n",
      "Epoch 12, CIFAR-10 Batch 1:  Accuracy: 0.7195945978164673, Cost: 0.8606714010238647\n",
      "Epoch 12, CIFAR-10 Batch 2:  Accuracy: 0.7364864945411682, Cost: 0.8123243451118469\n",
      "Epoch 12, CIFAR-10 Batch 3:  Accuracy: 0.7702702879905701, Cost: 0.7182849049568176\n",
      "Epoch 12, CIFAR-10 Batch 4:  Accuracy: 0.7770270109176636, Cost: 0.6769089698791504\n",
      "Epoch 12, CIFAR-10 Batch 5:  Accuracy: 0.7398648858070374, Cost: 0.7245976328849792\n",
      "Epoch 13, CIFAR-10 Batch 1:  Accuracy: 0.7364864945411682, Cost: 0.816537082195282\n",
      "Epoch 13, CIFAR-10 Batch 2:  Accuracy: 0.7567567825317383, Cost: 0.7379732131958008\n",
      "Epoch 13, CIFAR-10 Batch 3:  Accuracy: 0.7601351141929626, Cost: 0.7239803671836853\n",
      "Epoch 13, CIFAR-10 Batch 4:  Accuracy: 0.7770270109176636, Cost: 0.6514782309532166\n",
      "Epoch 13, CIFAR-10 Batch 5:  Accuracy: 0.7702702879905701, Cost: 0.6846750378608704\n",
      "Epoch 14, CIFAR-10 Batch 1:  Accuracy: 0.7263513803482056, Cost: 0.8077846169471741\n",
      "Epoch 14, CIFAR-10 Batch 2:  Accuracy: 0.7331081032752991, Cost: 0.7660626173019409\n",
      "Epoch 14, CIFAR-10 Batch 3:  Accuracy: 0.7668918967247009, Cost: 0.6678407788276672\n",
      "Epoch 14, CIFAR-10 Batch 4:  Accuracy: 0.7635135054588318, Cost: 0.6621239185333252\n",
      "Epoch 14, CIFAR-10 Batch 5:  Accuracy: 0.7770270109176636, Cost: 0.6632745265960693\n",
      "Epoch 15, CIFAR-10 Batch 1:  Accuracy: 0.7635135054588318, Cost: 0.7599506378173828\n",
      "Epoch 15, CIFAR-10 Batch 2:  Accuracy: 0.7601351141929626, Cost: 0.6977600455284119\n",
      "Epoch 15, CIFAR-10 Batch 3:  Accuracy: 0.7736486196517944, Cost: 0.6274763345718384\n",
      "Epoch 15, CIFAR-10 Batch 4:  Accuracy: 0.8006756901741028, Cost: 0.601075291633606\n",
      "Epoch 15, CIFAR-10 Batch 5:  Accuracy: 0.8175675868988037, Cost: 0.6050695180892944\n",
      "Epoch 16, CIFAR-10 Batch 1:  Accuracy: 0.7736486196517944, Cost: 0.7463512420654297\n",
      "Epoch 16, CIFAR-10 Batch 2:  Accuracy: 0.7635135054588318, Cost: 0.6394360661506653\n",
      "Epoch 16, CIFAR-10 Batch 3:  Accuracy: 0.7972972989082336, Cost: 0.5976575613021851\n",
      "Epoch 16, CIFAR-10 Batch 4:  Accuracy: 0.8108108043670654, Cost: 0.5730575919151306\n",
      "Epoch 16, CIFAR-10 Batch 5:  Accuracy: 0.8175675868988037, Cost: 0.5725415349006653\n",
      "Epoch 17, CIFAR-10 Batch 1:  Accuracy: 0.787162184715271, Cost: 0.7148664593696594\n",
      "Epoch 17, CIFAR-10 Batch 2:  Accuracy: 0.7567567825317383, Cost: 0.6592481732368469\n",
      "Epoch 17, CIFAR-10 Batch 3:  Accuracy: 0.8108108043670654, Cost: 0.5757558941841125\n",
      "Epoch 17, CIFAR-10 Batch 4:  Accuracy: 0.8277027010917664, Cost: 0.5452903509140015\n",
      "Epoch 17, CIFAR-10 Batch 5:  Accuracy: 0.8141891956329346, Cost: 0.563838005065918\n",
      "Epoch 18, CIFAR-10 Batch 1:  Accuracy: 0.8006756901741028, Cost: 0.652400016784668\n",
      "Epoch 18, CIFAR-10 Batch 2:  Accuracy: 0.8040540814399719, Cost: 0.6111631989479065\n",
      "Epoch 18, CIFAR-10 Batch 3:  Accuracy: 0.8209459185600281, Cost: 0.538925051689148\n",
      "Epoch 18, CIFAR-10 Batch 4:  Accuracy: 0.8412162065505981, Cost: 0.5182226300239563\n",
      "Epoch 18, CIFAR-10 Batch 5:  Accuracy: 0.8581081032752991, Cost: 0.5197104215621948\n",
      "Epoch 19, CIFAR-10 Batch 1:  Accuracy: 0.7972972989082336, Cost: 0.6368211507797241\n",
      "Epoch 19, CIFAR-10 Batch 2:  Accuracy: 0.8209459185600281, Cost: 0.5617599487304688\n",
      "Epoch 19, CIFAR-10 Batch 3:  Accuracy: 0.837837815284729, Cost: 0.49915704131126404\n",
      "Epoch 19, CIFAR-10 Batch 4:  Accuracy: 0.8479729890823364, Cost: 0.4748901128768921\n",
      "Epoch 19, CIFAR-10 Batch 5:  Accuracy: 0.8547297120094299, Cost: 0.4814196527004242\n",
      "Epoch 20, CIFAR-10 Batch 1:  Accuracy: 0.8074324131011963, Cost: 0.6233031153678894\n",
      "Epoch 20, CIFAR-10 Batch 2:  Accuracy: 0.8141891956329346, Cost: 0.5690212845802307\n",
      "Epoch 20, CIFAR-10 Batch 3:  Accuracy: 0.8547297120094299, Cost: 0.49770623445510864\n",
      "Epoch 20, CIFAR-10 Batch 4:  Accuracy: 0.837837815284729, Cost: 0.47167783975601196\n",
      "Epoch 20, CIFAR-10 Batch 5:  Accuracy: 0.8445945978164673, Cost: 0.472564697265625\n",
      "Epoch 21, CIFAR-10 Batch 1:  Accuracy: 0.8277027010917664, Cost: 0.6048096418380737\n",
      "Epoch 21, CIFAR-10 Batch 2:  Accuracy: 0.8074324131011963, Cost: 0.5547094345092773\n",
      "Epoch 21, CIFAR-10 Batch 3:  Accuracy: 0.8648648858070374, Cost: 0.4576384127140045\n",
      "Epoch 21, CIFAR-10 Batch 4:  Accuracy: 0.8648648858070374, Cost: 0.4464508295059204\n",
      "Epoch 21, CIFAR-10 Batch 5:  Accuracy: 0.837837815284729, Cost: 0.4744739532470703\n",
      "Epoch 22, CIFAR-10 Batch 1:  Accuracy: 0.8209459185600281, Cost: 0.5587145686149597\n",
      "Epoch 22, CIFAR-10 Batch 2:  Accuracy: 0.8277027010917664, Cost: 0.5331729054450989\n",
      "Epoch 22, CIFAR-10 Batch 3:  Accuracy: 0.8952702879905701, Cost: 0.4417726695537567\n",
      "Epoch 22, CIFAR-10 Batch 4:  Accuracy: 0.8614864945411682, Cost: 0.4583686590194702\n",
      "Epoch 22, CIFAR-10 Batch 5:  Accuracy: 0.8614864945411682, Cost: 0.4349118769168854\n",
      "Epoch 23, CIFAR-10 Batch 1:  Accuracy: 0.8040540814399719, Cost: 0.560688316822052\n",
      "Epoch 23, CIFAR-10 Batch 2:  Accuracy: 0.8209459185600281, Cost: 0.5034751296043396\n",
      "Epoch 23, CIFAR-10 Batch 3:  Accuracy: 0.8817567825317383, Cost: 0.42388424277305603\n",
      "Epoch 23, CIFAR-10 Batch 4:  Accuracy: 0.8479729890823364, Cost: 0.45539459586143494\n",
      "Epoch 23, CIFAR-10 Batch 5:  Accuracy: 0.8885135054588318, Cost: 0.4005419611930847\n",
      "Epoch 24, CIFAR-10 Batch 1:  Accuracy: 0.8310810923576355, Cost: 0.5292413830757141\n",
      "Epoch 24, CIFAR-10 Batch 2:  Accuracy: 0.8445945978164673, Cost: 0.4831733703613281\n",
      "Epoch 24, CIFAR-10 Batch 3:  Accuracy: 0.8817567825317383, Cost: 0.4008420407772064\n",
      "Epoch 24, CIFAR-10 Batch 4:  Accuracy: 0.8716216087341309, Cost: 0.3955414891242981\n",
      "Epoch 24, CIFAR-10 Batch 5:  Accuracy: 0.8885135054588318, Cost: 0.3820442855358124\n",
      "Epoch 25, CIFAR-10 Batch 1:  Accuracy: 0.8344594836235046, Cost: 0.5137072205543518\n",
      "Epoch 25, CIFAR-10 Batch 2:  Accuracy: 0.8344594836235046, Cost: 0.48184823989868164\n",
      "Epoch 25, CIFAR-10 Batch 3:  Accuracy: 0.8918918967247009, Cost: 0.4074023962020874\n",
      "Epoch 25, CIFAR-10 Batch 4:  Accuracy: 0.8716216087341309, Cost: 0.38978612422943115\n",
      "Epoch 25, CIFAR-10 Batch 5:  Accuracy: 0.8918918967247009, Cost: 0.35460618138313293\n"
     ]
    }
   ],
   "source": [
    "\"\"\"\n",
    "DON'T MODIFY ANYTHING IN THIS CELL\n",
    "\"\"\"\n",
    "save_model_path = './image_classification'\n",
    "\n",
    "print('Training...')\n",
    "with tf.Session() as sess:\n",
    "    # Initializing the variables\n",
    "    sess.run(tf.global_variables_initializer())\n",
    "    \n",
    "    # Training cycle\n",
    "    for epoch in range(epochs):\n",
    "        # Loop over all batches\n",
    "        n_batches = 5\n",
    "        for batch_i in range(1, n_batches + 1):\n",
    "            for batch_features, batch_labels in helper.load_preprocess_training_batch(batch_i, batch_size):\n",
    "                train_neural_network(sess, optimizer, keep_probability, batch_features, batch_labels)\n",
    "            print('Epoch {:>2}, CIFAR-10 Batch {}:  '.format(epoch + 1, batch_i), end='')\n",
    "            print_stats(sess, batch_features, batch_labels, cost, accuracy)\n",
    "            \n",
    "    # Save Model\n",
    "    saver = tf.train.Saver()\n",
    "    save_path = saver.save(sess, save_model_path)"
   ]
  },
  {
   "cell_type": "markdown",
   "metadata": {
    "deletable": true,
    "editable": true
   },
   "source": [
    "# Checkpoint\n",
    "The model has been saved to disk.\n",
    "## Test Model\n",
    "Test your model against the test dataset.  This will be your final accuracy. You should have an accuracy greater than 50%. If you don't, keep tweaking the model architecture and parameters."
   ]
  },
  {
   "cell_type": "code",
   "execution_count": 21,
   "metadata": {
    "collapsed": false,
    "deletable": true,
    "editable": true
   },
   "outputs": [
    {
     "name": "stdout",
     "output_type": "stream",
     "text": [
      "Testing Accuracy: 0.6448127299547195\n",
      "\n"
     ]
    },
    {
     "data": {
      "image/png": "[encoded data removed]",
      "text/plain": [
       "<matplotlib.figure.Figure at 0x7fbac6f5c048>"
      ]
     },
     "metadata": {
      "image/png": {
       "height": 319,
       "width": 355
      }
     },
     "output_type": "display_data"
    }
   ],
   "source": [
    "\"\"\"\n",
    "DON'T MODIFY ANYTHING IN THIS CELL\n",
    "\"\"\"\n",
    "%matplotlib inline\n",
    "%config InlineBackend.figure_format = 'retina'\n",
    "\n",
    "import tensorflow as tf\n",
    "import pickle\n",
    "import helper\n",
    "import random\n",
    "\n",
    "# Set batch size if not already set\n",
    "try:\n",
    "    if batch_size:\n",
    "        pass\n",
    "except NameError:\n",
    "    batch_size = 64\n",
    "\n",
    "save_model_path = './image_classification'\n",
    "n_samples = 4\n",
    "top_n_predictions = 3\n",
    "\n",
    "def test_model():\n",
    "    \"\"\"\n",
    "    Test the saved model against the test dataset\n",
    "    \"\"\"\n",
    "\n",
    "    test_features, test_labels = pickle.load(open('preprocess_training.p', mode='rb'))\n",
    "    loaded_graph = tf.Graph()\n",
    "\n",
    "    with tf.Session(graph=loaded_graph) as sess:\n",
    "        # Load model\n",
    "        loader = tf.train.import_meta_graph(save_model_path + '.meta')\n",
    "        loader.restore(sess, save_model_path)\n",
    "\n",
    "        # Get Tensors from loaded model\n",
    "        loaded_x = loaded_graph.get_tensor_by_name('x:0')\n",
    "        loaded_y = loaded_graph.get_tensor_by_name('y:0')\n",
    "        loaded_keep_prob = loaded_graph.get_tensor_by_name('keep_prob:0')\n",
    "        loaded_logits = loaded_graph.get_tensor_by_name('logits:0')\n",
    "        loaded_acc = loaded_graph.get_tensor_by_name('accuracy:0')\n",
    "        \n",
    "        # Get accuracy in batches for memory limitations\n",
    "        test_batch_acc_total = 0\n",
    "        test_batch_count = 0\n",
    "        \n",
    "        for train_feature_batch, train_label_batch in helper.batch_features_labels(test_features, test_labels, batch_size):\n",
    "            test_batch_acc_total += sess.run(\n",
    "                loaded_acc,\n",
    "                feed_dict={loaded_x: train_feature_batch, loaded_y: train_label_batch, loaded_keep_prob: 1.0})\n",
    "            test_batch_count += 1\n",
    "\n",
    "        print('Testing Accuracy: {}\\n'.format(test_batch_acc_total/test_batch_count))\n",
    "\n",
    "        # Print Random Samples\n",
    "        random_test_features, random_test_labels = tuple(zip(*random.sample(list(zip(test_features, test_labels)), n_samples)))\n",
    "        random_test_predictions = sess.run(\n",
    "            tf.nn.top_k(tf.nn.softmax(loaded_logits), top_n_predictions),\n",
    "            feed_dict={loaded_x: random_test_features, loaded_y: random_test_labels, loaded_keep_prob: 1.0})\n",
    "        helper.display_image_predictions(random_test_features, random_test_labels, random_test_predictions)\n",
    "\n",
    "\n",
    "test_model()"
   ]
  },
  {
   "cell_type": "markdown",
   "metadata": {
    "deletable": true,
    "editable": true
   },
   "source": [
    "## Why 50-70% Accuracy?\n",
    "You might be wondering why you can't get an accuracy any higher. First things first, 50% isn't bad for a simple CNN.  Pure guessing would get you 10% accuracy. However, you might notice people are getting scores [well above 70%](http://rodrigob.github.io/are_we_there_yet/build/classification_datasets_results.html#43494641522d3130).  That's because we haven't taught you all there is to know about neural networks. We still need to cover a few more techniques.\n",
    "## Submitting This Project\n",
    "When submitting this project, make sure to run all the cells before saving the notebook.  Save the notebook file as \"dlnd_image_classification.ipynb\" and save it as a HTML file under \"File\" -> \"Download as\".  Include the \"helper.py\" and \"problem_unittests.py\" files in your submission."
   ]
  }
 ],
 "metadata": {
  "hide_input": false,
  "kernelspec": {
   "display_name": "Python 3",
   "language": "python",
   "name": "python3"
  },
  "language_info": {
   "codemirror_mode": {
    "name": "ipython",
    "version": 3
   },
   "file_extension": ".py",
   "mimetype": "text/x-python",
   "name": "python",
   "nbconvert_exporter": "python",
   "pygments_lexer": "ipython3",
   "version": "3.5.2"
  }
 },
 "nbformat": 4,
 "nbformat_minor": 0
}
